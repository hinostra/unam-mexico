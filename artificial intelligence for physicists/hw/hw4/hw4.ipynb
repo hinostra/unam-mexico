{
 "cells": [
  {
   "cell_type": "markdown",
   "id": "8da1de5a",
   "metadata": {},
   "source": [
    "# Tarea 4\n",
    "\n",
    "## Implemenar una red neuronal utilizando Keras\n",
    "\n",
    "En esta tarea vas a desarrollar una red neuronal utilizando el conjunto de datos Iris. \n",
    "\n",
    "En la clase 6 revisamos brevemente este dataset, si aún no tienes claro qué variables son dependientes e independientes puedes revisar la documentación del [dataset](https://archive.ics.uci.edu/ml/datasets/iris). \n",
    "\n",
    "La finalidad de esta tarea no es que encuentres el mejor modelo (aunque sería bueno que experimentes y encuentres uno bueno) si no que te familiarices con el uso de [Keras](https://keras.io/) y aprendas a utilizar su documentación.\n",
    "\n",
    "En cada ejercicio agrega las celdas que necesites.\n"
   ]
  },
  {
   "cell_type": "code",
   "execution_count": 1,
   "id": "f620ec36",
   "metadata": {},
   "outputs": [],
   "source": [
    "import pandas as pd\n",
    "import numpy as np\n",
    "import matplotlib.pyplot as plt"
   ]
  },
  {
   "cell_type": "markdown",
   "id": "c05d31f6",
   "metadata": {},
   "source": [
    "## I. Preparación de los datos"
   ]
  },
  {
   "cell_type": "markdown",
   "id": "b522924b",
   "metadata": {},
   "source": [
    "### Ejercicio 1:\n",
    "\n",
    "1.1 Carga el [conjunto de datos Iris desde sklearn](https://scikit-learn.org/stable/datasets/toy_dataset.html)\n",
    "\n",
    "1.2 Guarda los rasgos del conjunto de datos en la variable X\n",
    "\n",
    "1.3 Guarda la salida del conjunto de datos en la variable y\n",
    "\n",
    "Nota: Asegurate de tener instalada la libreria de sklearn"
   ]
  },
  {
   "cell_type": "code",
   "execution_count": 2,
   "id": "2c8ccaa1",
   "metadata": {},
   "outputs": [],
   "source": [
    "from sklearn import datasets\n",
    "\n",
    "# importamos los datos\n",
    "data = datasets.load_iris()\n",
    "\n",
    "# data resulta ser un dictionary\n",
    "X = data['data']        # input\n",
    "y = data['target']      # output"
   ]
  },
  {
   "cell_type": "markdown",
   "id": "a9c21b33",
   "metadata": {},
   "source": [
    "### Ejercicio 2\n",
    "\n",
    "2.1 Verifica que el tipo de dato de X y y es un arreglo\n",
    "\n",
    "2.2 Convierte los arreglos a dataframes de pandas y concatenalos para tener un dataframe como el siguiente:\n",
    "\n",
    "| sepal_length | sepal_width | petal_length | petal_width | target |\n",
    "| --- | --- | --- | --- | --- |\n",
    "| 5.1 | 3.5 | 1.4 | 0.2 | 0 |\n",
    "| 4.9 | 3.0 | 1.4 | 0.2 | 0 |\n",
    "\n",
    "Hint: \n",
    "\n",
    "Si no sabes cómo convertir un arreglo en dataframe puedes buscar en google algo así: *how to convert numpy array to dataframe pandas*\n",
    "\n",
    "Puedes generar un dataframe para las X y uno para las y y despues *juntarlos*. Si no sabes cómo hacer esto, puedes buscar una [cheat sheet de pandas](https://pandas.pydata.org/Pandas_Cheat_Sheet.pdf). (En particular puedes utilizar merge sobre el indice de los dataframes creados)."
   ]
  },
  {
   "cell_type": "code",
   "execution_count": 3,
   "id": "136989a7",
   "metadata": {},
   "outputs": [
    {
     "name": "stdout",
     "output_type": "stream",
     "text": [
      "Data type of X: <class 'numpy.ndarray'>, shape: (150, 4).\n",
      "Data type of y: <class 'numpy.ndarray'>, shape: (150,).\n"
     ]
    }
   ],
   "source": [
    "# mostramos data type y shape de los arreglos X e y\n",
    "print(f'Data type of X: {type(X)}, shape: {X.shape}.')\n",
    "print(f'Data type of y: {type(y)}, shape: {y.shape}.')"
   ]
  },
  {
   "cell_type": "code",
   "execution_count": 4,
   "id": "f65b0657",
   "metadata": {},
   "outputs": [],
   "source": [
    "# creamos un dataframe con el array X\n",
    "# las etiquetas de las columnas seran los del dataset: data['feature_names']\n",
    "df = pd.DataFrame(X, columns=data['feature_names'])\n",
    "# anadimos una columna para el target\n",
    "df['target'] = y"
   ]
  },
  {
   "cell_type": "code",
   "execution_count": 5,
   "id": "cca55df7",
   "metadata": {},
   "outputs": [
    {
     "data": {
      "text/html": [
       "<div>\n",
       "<style scoped>\n",
       "    .dataframe tbody tr th:only-of-type {\n",
       "        vertical-align: middle;\n",
       "    }\n",
       "\n",
       "    .dataframe tbody tr th {\n",
       "        vertical-align: top;\n",
       "    }\n",
       "\n",
       "    .dataframe thead th {\n",
       "        text-align: right;\n",
       "    }\n",
       "</style>\n",
       "<table border=\"1\" class=\"dataframe\">\n",
       "  <thead>\n",
       "    <tr style=\"text-align: right;\">\n",
       "      <th></th>\n",
       "      <th>sepal length (cm)</th>\n",
       "      <th>sepal width (cm)</th>\n",
       "      <th>petal length (cm)</th>\n",
       "      <th>petal width (cm)</th>\n",
       "      <th>target</th>\n",
       "    </tr>\n",
       "  </thead>\n",
       "  <tbody>\n",
       "    <tr>\n",
       "      <th>0</th>\n",
       "      <td>5.1</td>\n",
       "      <td>3.5</td>\n",
       "      <td>1.4</td>\n",
       "      <td>0.2</td>\n",
       "      <td>0</td>\n",
       "    </tr>\n",
       "    <tr>\n",
       "      <th>1</th>\n",
       "      <td>4.9</td>\n",
       "      <td>3.0</td>\n",
       "      <td>1.4</td>\n",
       "      <td>0.2</td>\n",
       "      <td>0</td>\n",
       "    </tr>\n",
       "    <tr>\n",
       "      <th>2</th>\n",
       "      <td>4.7</td>\n",
       "      <td>3.2</td>\n",
       "      <td>1.3</td>\n",
       "      <td>0.2</td>\n",
       "      <td>0</td>\n",
       "    </tr>\n",
       "    <tr>\n",
       "      <th>3</th>\n",
       "      <td>4.6</td>\n",
       "      <td>3.1</td>\n",
       "      <td>1.5</td>\n",
       "      <td>0.2</td>\n",
       "      <td>0</td>\n",
       "    </tr>\n",
       "    <tr>\n",
       "      <th>4</th>\n",
       "      <td>5.0</td>\n",
       "      <td>3.6</td>\n",
       "      <td>1.4</td>\n",
       "      <td>0.2</td>\n",
       "      <td>0</td>\n",
       "    </tr>\n",
       "    <tr>\n",
       "      <th>5</th>\n",
       "      <td>5.4</td>\n",
       "      <td>3.9</td>\n",
       "      <td>1.7</td>\n",
       "      <td>0.4</td>\n",
       "      <td>0</td>\n",
       "    </tr>\n",
       "    <tr>\n",
       "      <th>6</th>\n",
       "      <td>4.6</td>\n",
       "      <td>3.4</td>\n",
       "      <td>1.4</td>\n",
       "      <td>0.3</td>\n",
       "      <td>0</td>\n",
       "    </tr>\n",
       "    <tr>\n",
       "      <th>7</th>\n",
       "      <td>5.0</td>\n",
       "      <td>3.4</td>\n",
       "      <td>1.5</td>\n",
       "      <td>0.2</td>\n",
       "      <td>0</td>\n",
       "    </tr>\n",
       "    <tr>\n",
       "      <th>8</th>\n",
       "      <td>4.4</td>\n",
       "      <td>2.9</td>\n",
       "      <td>1.4</td>\n",
       "      <td>0.2</td>\n",
       "      <td>0</td>\n",
       "    </tr>\n",
       "    <tr>\n",
       "      <th>9</th>\n",
       "      <td>4.9</td>\n",
       "      <td>3.1</td>\n",
       "      <td>1.5</td>\n",
       "      <td>0.1</td>\n",
       "      <td>0</td>\n",
       "    </tr>\n",
       "  </tbody>\n",
       "</table>\n",
       "</div>"
      ],
      "text/plain": [
       "   sepal length (cm)  sepal width (cm)  petal length (cm)  petal width (cm)  \\\n",
       "0                5.1               3.5                1.4               0.2   \n",
       "1                4.9               3.0                1.4               0.2   \n",
       "2                4.7               3.2                1.3               0.2   \n",
       "3                4.6               3.1                1.5               0.2   \n",
       "4                5.0               3.6                1.4               0.2   \n",
       "5                5.4               3.9                1.7               0.4   \n",
       "6                4.6               3.4                1.4               0.3   \n",
       "7                5.0               3.4                1.5               0.2   \n",
       "8                4.4               2.9                1.4               0.2   \n",
       "9                4.9               3.1                1.5               0.1   \n",
       "\n",
       "   target  \n",
       "0       0  \n",
       "1       0  \n",
       "2       0  \n",
       "3       0  \n",
       "4       0  \n",
       "5       0  \n",
       "6       0  \n",
       "7       0  \n",
       "8       0  \n",
       "9       0  "
      ]
     },
     "execution_count": 5,
     "metadata": {},
     "output_type": "execute_result"
    }
   ],
   "source": [
    "# mostramos el dataframe resultante\n",
    "df.head(10)"
   ]
  },
  {
   "cell_type": "markdown",
   "id": "eaab43f3",
   "metadata": {},
   "source": [
    "### Ejercicio 3\n",
    "\n",
    "3.1 Los datos estan ordenados de alguna manera?, si es así reordenalos de manera aleatoria. \n",
    "\n",
    "3.2 Utiliza el método describe para generar una tabla con información estadística"
   ]
  },
  {
   "attachments": {},
   "cell_type": "markdown",
   "id": "a65280ca",
   "metadata": {},
   "source": [
    "Los datos estan ordenados tal que los primeros 50 datos corresponden a la clase 0 (setosa), los siguientes 50 a la clase 1 (versicolor) y los ultimos 50 a la clase 2 (virginica). Si no reordenaramos las muestras, el dataset estaria sesgado y el entrenamiento no daria buenos resultados."
   ]
  },
  {
   "cell_type": "code",
   "execution_count": 6,
   "id": "d4586559",
   "metadata": {},
   "outputs": [
    {
     "data": {
      "text/html": [
       "<div>\n",
       "<style scoped>\n",
       "    .dataframe tbody tr th:only-of-type {\n",
       "        vertical-align: middle;\n",
       "    }\n",
       "\n",
       "    .dataframe tbody tr th {\n",
       "        vertical-align: top;\n",
       "    }\n",
       "\n",
       "    .dataframe thead th {\n",
       "        text-align: right;\n",
       "    }\n",
       "</style>\n",
       "<table border=\"1\" class=\"dataframe\">\n",
       "  <thead>\n",
       "    <tr style=\"text-align: right;\">\n",
       "      <th></th>\n",
       "      <th>sepal length (cm)</th>\n",
       "      <th>sepal width (cm)</th>\n",
       "      <th>petal length (cm)</th>\n",
       "      <th>petal width (cm)</th>\n",
       "      <th>target</th>\n",
       "    </tr>\n",
       "  </thead>\n",
       "  <tbody>\n",
       "    <tr>\n",
       "      <th>35</th>\n",
       "      <td>5.0</td>\n",
       "      <td>3.2</td>\n",
       "      <td>1.2</td>\n",
       "      <td>0.2</td>\n",
       "      <td>0</td>\n",
       "    </tr>\n",
       "    <tr>\n",
       "      <th>85</th>\n",
       "      <td>6.0</td>\n",
       "      <td>3.4</td>\n",
       "      <td>4.5</td>\n",
       "      <td>1.6</td>\n",
       "      <td>1</td>\n",
       "    </tr>\n",
       "    <tr>\n",
       "      <th>25</th>\n",
       "      <td>5.0</td>\n",
       "      <td>3.0</td>\n",
       "      <td>1.6</td>\n",
       "      <td>0.2</td>\n",
       "      <td>0</td>\n",
       "    </tr>\n",
       "    <tr>\n",
       "      <th>45</th>\n",
       "      <td>4.8</td>\n",
       "      <td>3.0</td>\n",
       "      <td>1.4</td>\n",
       "      <td>0.3</td>\n",
       "      <td>0</td>\n",
       "    </tr>\n",
       "    <tr>\n",
       "      <th>113</th>\n",
       "      <td>5.7</td>\n",
       "      <td>2.5</td>\n",
       "      <td>5.0</td>\n",
       "      <td>2.0</td>\n",
       "      <td>2</td>\n",
       "    </tr>\n",
       "    <tr>\n",
       "      <th>44</th>\n",
       "      <td>5.1</td>\n",
       "      <td>3.8</td>\n",
       "      <td>1.9</td>\n",
       "      <td>0.4</td>\n",
       "      <td>0</td>\n",
       "    </tr>\n",
       "    <tr>\n",
       "      <th>123</th>\n",
       "      <td>6.3</td>\n",
       "      <td>2.7</td>\n",
       "      <td>4.9</td>\n",
       "      <td>1.8</td>\n",
       "      <td>2</td>\n",
       "    </tr>\n",
       "    <tr>\n",
       "      <th>4</th>\n",
       "      <td>5.0</td>\n",
       "      <td>3.6</td>\n",
       "      <td>1.4</td>\n",
       "      <td>0.2</td>\n",
       "      <td>0</td>\n",
       "    </tr>\n",
       "    <tr>\n",
       "      <th>87</th>\n",
       "      <td>6.3</td>\n",
       "      <td>2.3</td>\n",
       "      <td>4.4</td>\n",
       "      <td>1.3</td>\n",
       "      <td>1</td>\n",
       "    </tr>\n",
       "    <tr>\n",
       "      <th>109</th>\n",
       "      <td>7.2</td>\n",
       "      <td>3.6</td>\n",
       "      <td>6.1</td>\n",
       "      <td>2.5</td>\n",
       "      <td>2</td>\n",
       "    </tr>\n",
       "  </tbody>\n",
       "</table>\n",
       "</div>"
      ],
      "text/plain": [
       "     sepal length (cm)  sepal width (cm)  petal length (cm)  petal width (cm)  \\\n",
       "35                 5.0               3.2                1.2               0.2   \n",
       "85                 6.0               3.4                4.5               1.6   \n",
       "25                 5.0               3.0                1.6               0.2   \n",
       "45                 4.8               3.0                1.4               0.3   \n",
       "113                5.7               2.5                5.0               2.0   \n",
       "44                 5.1               3.8                1.9               0.4   \n",
       "123                6.3               2.7                4.9               1.8   \n",
       "4                  5.0               3.6                1.4               0.2   \n",
       "87                 6.3               2.3                4.4               1.3   \n",
       "109                7.2               3.6                6.1               2.5   \n",
       "\n",
       "     target  \n",
       "35        0  \n",
       "85        1  \n",
       "25        0  \n",
       "45        0  \n",
       "113       2  \n",
       "44        0  \n",
       "123       2  \n",
       "4         0  \n",
       "87        1  \n",
       "109       2  "
      ]
     },
     "execution_count": 6,
     "metadata": {},
     "output_type": "execute_result"
    }
   ],
   "source": [
    "# reordenamos aleatoriamente\n",
    "df = df.sample(frac=1)\n",
    "\n",
    "# mostramos 10 primeros elementos\n",
    "df.head(10)"
   ]
  },
  {
   "cell_type": "code",
   "execution_count": 7,
   "id": "c0424bb2",
   "metadata": {},
   "outputs": [
    {
     "data": {
      "text/html": [
       "<div>\n",
       "<style scoped>\n",
       "    .dataframe tbody tr th:only-of-type {\n",
       "        vertical-align: middle;\n",
       "    }\n",
       "\n",
       "    .dataframe tbody tr th {\n",
       "        vertical-align: top;\n",
       "    }\n",
       "\n",
       "    .dataframe thead th {\n",
       "        text-align: right;\n",
       "    }\n",
       "</style>\n",
       "<table border=\"1\" class=\"dataframe\">\n",
       "  <thead>\n",
       "    <tr style=\"text-align: right;\">\n",
       "      <th></th>\n",
       "      <th>sepal length (cm)</th>\n",
       "      <th>sepal width (cm)</th>\n",
       "      <th>petal length (cm)</th>\n",
       "      <th>petal width (cm)</th>\n",
       "      <th>target</th>\n",
       "    </tr>\n",
       "  </thead>\n",
       "  <tbody>\n",
       "    <tr>\n",
       "      <th>count</th>\n",
       "      <td>150.000000</td>\n",
       "      <td>150.000000</td>\n",
       "      <td>150.000000</td>\n",
       "      <td>150.000000</td>\n",
       "      <td>150.000000</td>\n",
       "    </tr>\n",
       "    <tr>\n",
       "      <th>mean</th>\n",
       "      <td>5.843333</td>\n",
       "      <td>3.057333</td>\n",
       "      <td>3.758000</td>\n",
       "      <td>1.199333</td>\n",
       "      <td>1.000000</td>\n",
       "    </tr>\n",
       "    <tr>\n",
       "      <th>std</th>\n",
       "      <td>0.828066</td>\n",
       "      <td>0.435866</td>\n",
       "      <td>1.765298</td>\n",
       "      <td>0.762238</td>\n",
       "      <td>0.819232</td>\n",
       "    </tr>\n",
       "    <tr>\n",
       "      <th>min</th>\n",
       "      <td>4.300000</td>\n",
       "      <td>2.000000</td>\n",
       "      <td>1.000000</td>\n",
       "      <td>0.100000</td>\n",
       "      <td>0.000000</td>\n",
       "    </tr>\n",
       "    <tr>\n",
       "      <th>25%</th>\n",
       "      <td>5.100000</td>\n",
       "      <td>2.800000</td>\n",
       "      <td>1.600000</td>\n",
       "      <td>0.300000</td>\n",
       "      <td>0.000000</td>\n",
       "    </tr>\n",
       "    <tr>\n",
       "      <th>50%</th>\n",
       "      <td>5.800000</td>\n",
       "      <td>3.000000</td>\n",
       "      <td>4.350000</td>\n",
       "      <td>1.300000</td>\n",
       "      <td>1.000000</td>\n",
       "    </tr>\n",
       "    <tr>\n",
       "      <th>75%</th>\n",
       "      <td>6.400000</td>\n",
       "      <td>3.300000</td>\n",
       "      <td>5.100000</td>\n",
       "      <td>1.800000</td>\n",
       "      <td>2.000000</td>\n",
       "    </tr>\n",
       "    <tr>\n",
       "      <th>max</th>\n",
       "      <td>7.900000</td>\n",
       "      <td>4.400000</td>\n",
       "      <td>6.900000</td>\n",
       "      <td>2.500000</td>\n",
       "      <td>2.000000</td>\n",
       "    </tr>\n",
       "  </tbody>\n",
       "</table>\n",
       "</div>"
      ],
      "text/plain": [
       "       sepal length (cm)  sepal width (cm)  petal length (cm)  \\\n",
       "count         150.000000        150.000000         150.000000   \n",
       "mean            5.843333          3.057333           3.758000   \n",
       "std             0.828066          0.435866           1.765298   \n",
       "min             4.300000          2.000000           1.000000   \n",
       "25%             5.100000          2.800000           1.600000   \n",
       "50%             5.800000          3.000000           4.350000   \n",
       "75%             6.400000          3.300000           5.100000   \n",
       "max             7.900000          4.400000           6.900000   \n",
       "\n",
       "       petal width (cm)      target  \n",
       "count        150.000000  150.000000  \n",
       "mean           1.199333    1.000000  \n",
       "std            0.762238    0.819232  \n",
       "min            0.100000    0.000000  \n",
       "25%            0.300000    0.000000  \n",
       "50%            1.300000    1.000000  \n",
       "75%            1.800000    2.000000  \n",
       "max            2.500000    2.000000  "
      ]
     },
     "execution_count": 7,
     "metadata": {},
     "output_type": "execute_result"
    }
   ],
   "source": [
    "# tabla con resumen estadistico\n",
    "df.describe()"
   ]
  },
  {
   "cell_type": "markdown",
   "id": "cb43a09f",
   "metadata": {},
   "source": [
    "### Ejercicio 4\n",
    "\n",
    "Realiza los histogramas de cada variable en el dataframe"
   ]
  },
  {
   "cell_type": "code",
   "execution_count": 8,
   "id": "5bac2b8d",
   "metadata": {},
   "outputs": [
    {
     "data": {
      "image/png": "[encoded data removed]",
      "text/plain": [
       "<Figure size 1500x400 with 5 Axes>"
      ]
     },
     "metadata": {},
     "output_type": "display_data"
    }
   ],
   "source": [
    "import matplotlib.pyplot as plt\n",
    "\n",
    "features = df.columns\n",
    "colors = ['indianred', 'gold', 'seagreen', 'deepskyblue', 'blueviolet']\n",
    "# graficamos los histogramas\n",
    "fig, axes = plt.subplots(1, 5, figsize=(15,4))\n",
    "for i, (feature, ax) in enumerate(zip(features, axes)):\n",
    "    ax.hist(df[feature], bins=15, color=colors[i], ec='black')\n",
    "    ax.set_title(feature)\n",
    "plt.tight_layout()\n",
    "plt.show()"
   ]
  },
  {
   "cell_type": "markdown",
   "id": "bb956594",
   "metadata": {},
   "source": [
    "### Ejercicio 5 \n",
    "\n",
    "5.1 Separa el conjunto de datos en los conjuntos de entrenamiento (90%) y de prueba (10%). Muestra cuántas muestras tiene cada conjunto\n",
    "\n",
    "5.2 Separa las variables independientes de las variables dependientes para el conjunto de prueba y el conjunto de entrenamiento. Revisa las dimensiones de cada conjunto\n",
    "\n",
    "5.3 Normaliza los datos de entrenamiento y prueba (solo normaliza a las variables independientes)\n"
   ]
  },
  {
   "cell_type": "code",
   "execution_count": 9,
   "id": "92d1b227",
   "metadata": {},
   "outputs": [
    {
     "name": "stdout",
     "output_type": "stream",
     "text": [
      "Numero de muestras para entrenamiento: 135\n",
      "Numero de muestras para prueba: 15\n"
     ]
    }
   ],
   "source": [
    "train_ratio = 0.9                           # razon de las muestras empleadas para entrenamiento\n",
    "n_samples   = X.shape[0]                    # numero total de muestras\n",
    "train_size  = round(train_ratio*n_samples)  # numero de muestras para entrenamiento\n",
    "\n",
    "# DataFrames con los datos para entrenamiento y prueba\n",
    "df_train = df.iloc[:train_size,:]\n",
    "df_test  = df.iloc[train_size:,:]\n",
    "\n",
    "# imprimimos el tamano de cada subconjunto\n",
    "print(f'Numero de muestras para entrenamiento: {df_train.shape[0]}')\n",
    "print(f'Numero de muestras para prueba: {df_test.shape[0]}')"
   ]
  },
  {
   "cell_type": "code",
   "execution_count": 10,
   "id": "7f3dd16e",
   "metadata": {},
   "outputs": [
    {
     "name": "stdout",
     "output_type": "stream",
     "text": [
      "Dimensiones de los subconjuntos: \n",
      "Variables independientes del conjunto de entrenamiento:  (135, 4)\n",
      "Variables dependientes del conjunto de entrenamiento:  (135,)\n",
      "Variables independientes del conjunto de prueba:  (15, 4)\n",
      "Variables dependientes del conjunto de prueba:  (15,)\n"
     ]
    }
   ],
   "source": [
    "# separamos las variables dependientes e independientes del conjunto de datos\n",
    "X_train, y_train = df_train.values[:,:-1], df_train.values[:,-1]\n",
    "X_test, y_test   = df_test.values[:,:-1], df_test.values[:,-1]\n",
    "\n",
    "print(f'Dimensiones de los subconjuntos: ')\n",
    "print('Variables independientes del conjunto de entrenamiento: ', X_train.shape)\n",
    "print('Variables dependientes del conjunto de entrenamiento: ', y_train.shape)\n",
    "print('Variables independientes del conjunto de prueba: ', X_test.shape)\n",
    "print('Variables dependientes del conjunto de prueba: ', y_test.shape)"
   ]
  },
  {
   "cell_type": "code",
   "execution_count": 11,
   "id": "decafbb8",
   "metadata": {},
   "outputs": [],
   "source": [
    "# podemos usar sklearn.preprocessing.StandardScaler para la normalizacion\n",
    "from sklearn.preprocessing import StandardScaler\n",
    "\n",
    "# normalizacion\n",
    "scaler = StandardScaler()\n",
    "X_train = scaler.fit_transform(X_train)     # calcula la media y la std de X_train y luego lo normaliza\n",
    "X_test  = scaler.transform(X_test)          # transforma X_test"
   ]
  },
  {
   "cell_type": "markdown",
   "id": "858d98e2",
   "metadata": {},
   "source": [
    "## II. Implementación de la red neuronal"
   ]
  },
  {
   "cell_type": "code",
   "execution_count": 12,
   "id": "041fc816",
   "metadata": {},
   "outputs": [
    {
     "name": "stderr",
     "output_type": "stream",
     "text": [
      "2023-03-17 10:57:52.275204: I tensorflow/core/platform/cpu_feature_guard.cc:193] This TensorFlow binary is optimized with oneAPI Deep Neural Network Library (oneDNN) to use the following CPU instructions in performance-critical operations:  AVX2 AVX512F AVX512_VNNI FMA\n",
      "To enable them in other operations, rebuild TensorFlow with the appropriate compiler flags.\n",
      "2023-03-17 10:57:52.401498: I tensorflow/core/util/port.cc:104] oneDNN custom operations are on. You may see slightly different numerical results due to floating-point round-off errors from different computation orders. To turn them off, set the environment variable `TF_ENABLE_ONEDNN_OPTS=0`.\n",
      "2023-03-17 10:57:52.404049: W tensorflow/compiler/xla/stream_executor/platform/default/dso_loader.cc:64] Could not load dynamic library 'libcudart.so.11.0'; dlerror: libcudart.so.11.0: cannot open shared object file: No such file or directory\n",
      "2023-03-17 10:57:52.404060: I tensorflow/compiler/xla/stream_executor/cuda/cudart_stub.cc:29] Ignore above cudart dlerror if you do not have a GPU set up on your machine.\n",
      "2023-03-17 10:57:52.899321: W tensorflow/compiler/xla/stream_executor/platform/default/dso_loader.cc:64] Could not load dynamic library 'libnvinfer.so.7'; dlerror: libnvinfer.so.7: cannot open shared object file: No such file or directory\n",
      "2023-03-17 10:57:52.899368: W tensorflow/compiler/xla/stream_executor/platform/default/dso_loader.cc:64] Could not load dynamic library 'libnvinfer_plugin.so.7'; dlerror: libnvinfer_plugin.so.7: cannot open shared object file: No such file or directory\n",
      "2023-03-17 10:57:52.899372: W tensorflow/compiler/tf2tensorrt/utils/py_utils.cc:38] TF-TRT Warning: Cannot dlopen some TensorRT libraries. If you would like to use Nvidia GPU with TensorRT, please make sure the missing libraries mentioned above are installed properly.\n"
     ]
    }
   ],
   "source": [
    "from tensorflow import keras\n",
    "from keras.models import Sequential\n",
    "from keras.layers import Dense, Activation\n",
    "from keras.optimizers import Adam\n",
    "from keras.utils import plot_model\n",
    "from keras.losses import SparseCategoricalCrossentropy\n",
    "from keras import initializers\n",
    "np.random.seed(1)"
   ]
  },
  {
   "cell_type": "markdown",
   "id": "7f379145",
   "metadata": {},
   "source": [
    "### Ejercicio 7\n",
    "\n",
    "Implementa una red neuronal con dos capas ocultas. Completa la función **architecture** que define la arquitectura.\n",
    "\n",
    "Cúantos nodos debe tener la capa de entrada?\n",
    "\n",
    "Cuántos valores posibles puede tomar la variable **target**? Esto define el número de clases que tienes, y por lo tanto, el número de nodos en la capa de salida\n",
    "\n",
    "En este caso vamos a realizar una clasificación (veremos a detalle esto en las siguientes clases) porque tenemos un target categorico, por lo que la última capa debe tener tantos nodos como salidas o clases.\n",
    "\n",
    "Nota: si crees que el modelo funciona mejor con más o menos capas, modifica la función para agregar las capas que desees."
   ]
  },
  {
   "attachments": {},
   "cell_type": "markdown",
   "id": "eb30f0de",
   "metadata": {},
   "source": [
    "- La capa de entrada tiene el mismo numero de nodos que el numero de rasgos/caracteristicas: es decir 4.\n",
    "- La variable target puede tomar 3 valores (0, 1, 2)."
   ]
  },
  {
   "cell_type": "code",
   "execution_count": 13,
   "id": "9813782b",
   "metadata": {},
   "outputs": [],
   "source": [
    "def architecture(n_hidden1, n_hidden2, initializer, activation, input_shape):\n",
    "    \n",
    "    model = Sequential()\n",
    "    \n",
    "    n_features = input_shape\n",
    "\n",
    "    # no incluimos explicitamente la capa de entrada en la arquitectura\n",
    "    # primera capa oculta (4 nodos -> n_hidden1 nodos)\n",
    "    model.add(Dense(units = n_hidden1,                  # units da el número de nodos \n",
    "                    kernel_initializer = initializer,   # Initiallizacion de los pesos W\n",
    "                    bias_initializer = 'zeros',         # Inicialización del bias\n",
    "                    activation = activation,            # Función de activación\n",
    "                    input_shape = input_shape))         # Da el numero de nodos de la capa de entrada.\n",
    "                                                        # Este número corresponde al número de rasgos X que definen\n",
    "                                                        # al sistema de estudio\n",
    "    \n",
    "    # segunda capa oculta (n_hidden1 nodos -> n_hidden2 nodos)\n",
    "    model.add(Dense(units = n_hidden2,\n",
    "                    kernel_initializer = initializer,\n",
    "                    bias_initializer = 'zeros',\n",
    "                    activation = activation,))\n",
    "    \n",
    "    # capa de salida (n_hidden2 nodos -> 3 nodos)\n",
    "    model.add(Dense(units = 3,\n",
    "                    kernel_initializer = initializer,\n",
    "                    bias_initializer = 'zeros',\n",
    "                    activation = 'softmax'))\n",
    "    \n",
    "    return model"
   ]
  },
  {
   "cell_type": "markdown",
   "id": "5b9b51e7",
   "metadata": {},
   "source": [
    "### Ejercicio 8\n",
    "\n",
    "8.1 Llama a la función architecture para definir el modelo que vas a entrenar\n",
    "\n",
    "8.2 Utiliza el metodo plot_model para visualizar un diagrama del modelo que definiste\n",
    "\n",
    "8.3 Cuántos parametros (w y b) tiene el modelo que definiste (puedes calcularlo a mano o utilizar el método summary)"
   ]
  },
  {
   "cell_type": "code",
   "execution_count": 14,
   "id": "296e7295",
   "metadata": {},
   "outputs": [
    {
     "name": "stderr",
     "output_type": "stream",
     "text": [
      "2023-03-17 10:57:53.447968: W tensorflow/compiler/xla/stream_executor/platform/default/dso_loader.cc:64] Could not load dynamic library 'libcuda.so.1'; dlerror: libcuda.so.1: cannot open shared object file: No such file or directory\n",
      "2023-03-17 10:57:53.447988: W tensorflow/compiler/xla/stream_executor/cuda/cuda_driver.cc:265] failed call to cuInit: UNKNOWN ERROR (303)\n",
      "2023-03-17 10:57:53.448002: I tensorflow/compiler/xla/stream_executor/cuda/cuda_diagnostics.cc:156] kernel driver does not appear to be running on this host (hinostra): /proc/driver/nvidia/version does not exist\n",
      "2023-03-17 10:57:53.448200: I tensorflow/core/platform/cpu_feature_guard.cc:193] This TensorFlow binary is optimized with oneAPI Deep Neural Network Library (oneDNN) to use the following CPU instructions in performance-critical operations:  AVX2 AVX512F AVX512_VNNI FMA\n",
      "To enable them in other operations, rebuild TensorFlow with the appropriate compiler flags.\n",
      "/home/ahinostrozac/Documents/programs/Python/.ai-intro/lib/python3.10/site-packages/keras/initializers/initializers_v2.py:120: UserWarning: The initializer RandomUniform is unseeded and being called multiple times, which will return identical values  each time (even if the initializer is unseeded). Please update your code to provide a seed to the initializer, or avoid using the same initalizer instance more than once.\n",
      "  warnings.warn(\n"
     ]
    }
   ],
   "source": [
    "# definimos los argumentos de la funcion architecture\n",
    "initializer = initializers.RandomUniform(minval=0., maxval=0.1)\n",
    "activation = 'sigmoid'\n",
    "input_shape = (X.shape[1],)\n",
    "n_hidden1, n_hidden2 = 8, 2\n",
    "\n",
    "# modelo\n",
    "model = architecture(n_hidden1, n_hidden2, initializer, activation, input_shape)"
   ]
  },
  {
   "cell_type": "code",
   "execution_count": 15,
   "id": "2f315e69",
   "metadata": {},
   "outputs": [
    {
     "data": {
      "image/png": "[encoded data removed]",
      "text/plain": [
       "<IPython.core.display.Image object>"
      ]
     },
     "execution_count": 15,
     "metadata": {},
     "output_type": "execute_result"
    }
   ],
   "source": [
    "# graficamos el modelo\n",
    "plot_model(model)"
   ]
  },
  {
   "cell_type": "code",
   "execution_count": 16,
   "id": "b4b6df15",
   "metadata": {},
   "outputs": [
    {
     "name": "stdout",
     "output_type": "stream",
     "text": [
      "Model: \"sequential\"\n",
      "_________________________________________________________________\n",
      " Layer (type)                Output Shape              Param #   \n",
      "=================================================================\n",
      " dense (Dense)               (None, 8)                 40        \n",
      "                                                                 \n",
      " dense_1 (Dense)             (None, 2)                 18        \n",
      "                                                                 \n",
      " dense_2 (Dense)             (None, 3)                 9         \n",
      "                                                                 \n",
      "=================================================================\n",
      "Total params: 67\n",
      "Trainable params: 67\n",
      "Non-trainable params: 0\n",
      "_________________________________________________________________\n"
     ]
    }
   ],
   "source": [
    "# numero de parametros del modelo\n",
    "model.summary()"
   ]
  },
  {
   "cell_type": "markdown",
   "id": "f8be3c9f",
   "metadata": {},
   "source": [
    "### Ejercicio 9\n",
    "\n",
    "9.1 Compila el modelo que definiste utilizando la función de costo y [métrica](https://keras.io/api/metrics/probabilistic_metrics/) [SparseCategoricalCrossentropy](https://keras.io/api/losses/probabilistic_losses/) \n",
    "\n",
    "Para el optimizador puedes probar algunos de los que se indican [aquí](https://keras.io/api/optimizers/), quedate con el que te dé mejor resultados."
   ]
  },
  {
   "cell_type": "code",
   "execution_count": 17,
   "id": "7eee5419",
   "metadata": {},
   "outputs": [],
   "source": [
    "optimizer = Adam(learning_rate=0.01)\n",
    "loss = SparseCategoricalCrossentropy()\n",
    "acc = SparseCategoricalCrossentropy()\n",
    "\n",
    "# Entrenamiento\n",
    "model.compile(loss=loss, optimizer=optimizer, metrics=[acc])"
   ]
  },
  {
   "cell_type": "markdown",
   "id": "e05b393e",
   "metadata": {},
   "source": [
    "### Ejercicio 10\n",
    "\n",
    "9.1 Entrena el modelo utilizando el método fit()\n",
    "\n",
    "9.2 Grafica el costo de entrenamiento y de validación con respecto a la época.\n",
    "\n",
    "9.2 Grafica el accuracy de entrenamiento y de validación con respecto a la época.\n",
    "\n",
    "Hint: revisa la salida del entrenamiento *history_model.history* "
   ]
  },
  {
   "cell_type": "code",
   "execution_count": 18,
   "id": "d2e2439f",
   "metadata": {},
   "outputs": [],
   "source": [
    "n_epochs = 300\n",
    "val_split = 0.1\n",
    "\n",
    "# Entrenamos el modelo\n",
    "history_model = model.fit(X_train, y_train,\n",
    "                          epochs=n_epochs,\n",
    "                          batch_size=64,\n",
    "                          validation_split=val_split, \n",
    "                          shuffle=True,\n",
    "                          verbose=0)"
   ]
  },
  {
   "cell_type": "code",
   "execution_count": 19,
   "id": "07cc53dd",
   "metadata": {},
   "outputs": [
    {
     "data": {
      "image/png": "[encoded data removed]",
      "text/plain": [
       "<Figure size 1200x600 with 2 Axes>"
      ]
     },
     "metadata": {},
     "output_type": "display_data"
    }
   ],
   "source": [
    "train_loss = history_model.history['loss']\n",
    "val_loss = history_model.history['val_loss']\n",
    "train_acc = history_model.history['sparse_categorical_crossentropy']\n",
    "val_acc = history_model.history['val_sparse_categorical_crossentropy']\n",
    "\n",
    "fig, (ax1, ax2) = plt.subplots(1, 2, figsize=(12, 6))\n",
    "\n",
    "# Graficamos el costo y accuracy para entrenamiento y validacion (todas las epocas)\n",
    "ax1.plot(train_loss, c='deepskyblue', label='Entrenamiento')\n",
    "ax1.plot(val_loss, c='blue', label='Validacion')\n",
    "ax1.set_title('Costo de entrenamiento y validacion')\n",
    "ax1.set_xlabel('Epoca')\n",
    "ax1.set_ylabel('Costo')\n",
    "ax1.legend()\n",
    "\n",
    "ax2.plot(train_acc, c='salmon', label='Entrenamiento')\n",
    "ax2.plot(val_acc, c='red', label='Validacion')\n",
    "ax2.set_title('Metrica (accuracy) de entrenamiento y validacion')\n",
    "ax2.set_xlabel('Epoca')\n",
    "ax2.set_ylabel('Metrica')\n",
    "ax2.legend()\n",
    "\n",
    "plt.show()"
   ]
  },
  {
   "cell_type": "markdown",
   "id": "ef6aada7",
   "metadata": {},
   "source": [
    "### Ejercicio 11\n",
    "\n",
    "Evalúa tu modelo utilizando los datos de prueba y el método evaluate()"
   ]
  },
  {
   "cell_type": "code",
   "execution_count": 20,
   "id": "f971bda0",
   "metadata": {},
   "outputs": [
    {
     "name": "stdout",
     "output_type": "stream",
     "text": [
      "1/1 [==============================] - 0s 23ms/step - loss: 0.5917 - sparse_categorical_crossentropy: 0.5917\n",
      "Test loss: 0.5917239785194397\n",
      "Test accuracy: 0.5917239785194397\n"
     ]
    }
   ],
   "source": [
    "test_results = model.evaluate(X_test, y_test)\n",
    "print('Test loss:', test_results[0])\n",
    "print('Test accuracy:', test_results[1])"
   ]
  }
 ],
 "metadata": {
  "kernelspec": {
   "display_name": ".ai-intro",
   "language": "python",
   "name": "python3"
  },
  "language_info": {
   "codemirror_mode": {
    "name": "ipython",
    "version": 3
   },
   "file_extension": ".py",
   "mimetype": "text/x-python",
   "name": "python",
   "nbconvert_exporter": "python",
   "pygments_lexer": "ipython3",
   "version": "3.10.6 (main, Mar 10 2023, 10:55:28) [GCC 11.3.0]"
  },
  "vscode": {
   "interpreter": {
    "hash": "1345ef4026975da58eb7332249dac0c7065c2e91b40ebf9e7ebbabfff5b57dc6"
   }
  }
 },
 "nbformat": 4,
 "nbformat_minor": 5
}
