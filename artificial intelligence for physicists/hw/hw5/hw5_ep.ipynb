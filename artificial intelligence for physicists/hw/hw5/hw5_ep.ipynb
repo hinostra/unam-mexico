{
 "cells": [
  {
   "attachments": {},
   "cell_type": "markdown",
   "metadata": {
    "id": "TB0wBWfcVqHz"
   },
   "source": [
    "# Tarea 5: Ajuste de hiperpaŕametros utilizando Tensorflow y Tensorboard (Puntos Extra)"
   ]
  },
  {
   "attachments": {},
   "cell_type": "markdown",
   "metadata": {},
   "source": [
    "## Procesamiento de los datos"
   ]
  },
  {
   "cell_type": "code",
   "execution_count": 1,
   "metadata": {
    "id": "8p3Tbx8cWEFA"
   },
   "outputs": [],
   "source": [
    "# Load the TensorBoard notebook extension\n",
    "%load_ext tensorboard"
   ]
  },
  {
   "cell_type": "code",
   "execution_count": 2,
   "metadata": {
    "id": "lEWCCQYkWIdA"
   },
   "outputs": [],
   "source": [
    "# Clear any logs from previous runs\n",
    "!rm -rf ./logs_ep/ "
   ]
  },
  {
   "cell_type": "code",
   "execution_count": 3,
   "metadata": {
    "id": "mVtYvbbIWRkV"
   },
   "outputs": [
    {
     "name": "stderr",
     "output_type": "stream",
     "text": [
      "2023-04-23 16:41:03.996305: I tensorflow/core/platform/cpu_feature_guard.cc:193] This TensorFlow binary is optimized with oneAPI Deep Neural Network Library (oneDNN) to use the following CPU instructions in performance-critical operations:  AVX2 AVX512F AVX512_VNNI FMA\n",
      "To enable them in other operations, rebuild TensorFlow with the appropriate compiler flags.\n",
      "2023-04-23 16:41:04.183330: I tensorflow/core/util/port.cc:104] oneDNN custom operations are on. You may see slightly different numerical results due to floating-point round-off errors from different computation orders. To turn them off, set the environment variable `TF_ENABLE_ONEDNN_OPTS=0`.\n",
      "2023-04-23 16:41:04.194797: W tensorflow/compiler/xla/stream_executor/platform/default/dso_loader.cc:64] Could not load dynamic library 'libcudart.so.11.0'; dlerror: libcudart.so.11.0: cannot open shared object file: No such file or directory\n",
      "2023-04-23 16:41:04.194816: I tensorflow/compiler/xla/stream_executor/cuda/cudart_stub.cc:29] Ignore above cudart dlerror if you do not have a GPU set up on your machine.\n",
      "2023-04-23 16:41:05.035650: W tensorflow/compiler/xla/stream_executor/platform/default/dso_loader.cc:64] Could not load dynamic library 'libnvinfer.so.7'; dlerror: libnvinfer.so.7: cannot open shared object file: No such file or directory\n",
      "2023-04-23 16:41:05.035707: W tensorflow/compiler/xla/stream_executor/platform/default/dso_loader.cc:64] Could not load dynamic library 'libnvinfer_plugin.so.7'; dlerror: libnvinfer_plugin.so.7: cannot open shared object file: No such file or directory\n",
      "2023-04-23 16:41:05.035711: W tensorflow/compiler/tf2tensorrt/utils/py_utils.cc:38] TF-TRT Warning: Cannot dlopen some TensorRT libraries. If you would like to use Nvidia GPU with TensorRT, please make sure the missing libraries mentioned above are installed properly.\n"
     ]
    }
   ],
   "source": [
    "# librerias importantes\n",
    "import tensorflow as tf\n",
    "from tensorflow import keras\n",
    "from tensorflow.keras import layers\n",
    "from tensorflow.keras.layers import Input, Dense, Activation, Flatten\n",
    "from tensorflow.keras.layers import Dropout\n",
    "from tensorflow.keras.models import Model\n",
    "from tensorflow.keras.preprocessing import image\n",
    "from tensorflow.keras.applications.imagenet_utils import preprocess_input\n",
    "import pydot\n",
    "from IPython.display import SVG\n",
    "from tensorflow.keras.utils import plot_model\n",
    "from tensorflow.keras.optimizers import SGD\n",
    "from datetime import datetime\n",
    "\n",
    "import matplotlib.pyplot as plt\n",
    "from matplotlib.pyplot import imshow\n",
    "\n",
    "import numpy as np\n",
    "import pickle\n",
    "import time\n",
    "\n",
    "from tensorboard.plugins.hparams import api as hp\n",
    "np.random.seed(1)\n",
    "\n",
    "%matplotlib inline"
   ]
  },
  {
   "cell_type": "code",
   "execution_count": 4,
   "metadata": {
    "id": "z8b82G7YksOS"
   },
   "outputs": [],
   "source": [
    "# cargamos los datos\n",
    "fashion_mnist = tf.keras.datasets.fashion_mnist\n",
    "(x_train, y_train),(x_test, y_test) = fashion_mnist.load_data()"
   ]
  },
  {
   "cell_type": "code",
   "execution_count": 5,
   "metadata": {},
   "outputs": [
    {
     "name": "stdout",
     "output_type": "stream",
     "text": [
      "The shape of x_train is (60000, 28, 28)\n",
      "The shape of y_train is (60000,)\n",
      "\n",
      "The shape of x_test is (10000, 28, 28)\n",
      "The shape of y_test is (10000,)\n"
     ]
    }
   ],
   "source": [
    "print('The shape of x_train is', x_train.shape)\n",
    "print('The shape of y_train is', y_train.shape)\n",
    "\n",
    "print('\\nThe shape of x_test is', x_test.shape)\n",
    "print('The shape of y_test is', y_test.shape)"
   ]
  },
  {
   "cell_type": "code",
   "execution_count": 6,
   "metadata": {},
   "outputs": [],
   "source": [
    "# diccionario de etiquetas\n",
    "dic = {0: 'T-shirt/top', 1: 'Trouser', 2: 'Pullover', 3: 'Dress', 4: 'Coat', \n",
    "       5: 'Sandal', 6: 'Shirt', 7: 'Sneaker', 8: 'Bag', 9: 'Ankle boot'}"
   ]
  },
  {
   "cell_type": "code",
   "execution_count": 7,
   "metadata": {},
   "outputs": [],
   "source": [
    "# normalizamos los datos\n",
    "train_x = x_train/255\n",
    "test_x = x_test/255"
   ]
  },
  {
   "cell_type": "code",
   "execution_count": 8,
   "metadata": {},
   "outputs": [],
   "source": [
    "# one-hot encoding\n",
    "\n",
    "from sklearn.preprocessing import OneHotEncoder\n",
    "\n",
    "enc = OneHotEncoder()\n",
    "train_y = enc.fit_transform(y_train.reshape(-1, 1)).toarray()\n",
    "test_y  = enc.transform(y_test.reshape(-1, 1)).toarray()"
   ]
  },
  {
   "attachments": {},
   "cell_type": "markdown",
   "metadata": {},
   "source": [
    "# Definicion de la arquitectura de la red neuronal"
   ]
  },
  {
   "cell_type": "code",
   "execution_count": 9,
   "metadata": {
    "id": "5Euw0agpWb4V"
   },
   "outputs": [
    {
     "name": "stderr",
     "output_type": "stream",
     "text": [
      "2023-04-23 16:41:07.486727: W tensorflow/compiler/xla/stream_executor/platform/default/dso_loader.cc:64] Could not load dynamic library 'libcuda.so.1'; dlerror: libcuda.so.1: cannot open shared object file: No such file or directory\n",
      "2023-04-23 16:41:07.486765: W tensorflow/compiler/xla/stream_executor/cuda/cuda_driver.cc:265] failed call to cuInit: UNKNOWN ERROR (303)\n",
      "2023-04-23 16:41:07.486789: I tensorflow/compiler/xla/stream_executor/cuda/cuda_diagnostics.cc:156] kernel driver does not appear to be running on this host (hinostra): /proc/driver/nvidia/version does not exist\n",
      "2023-04-23 16:41:07.487150: I tensorflow/core/platform/cpu_feature_guard.cc:193] This TensorFlow binary is optimized with oneAPI Deep Neural Network Library (oneDNN) to use the following CPU instructions in performance-critical operations:  AVX2 AVX512F AVX512_VNNI FMA\n",
      "To enable them in other operations, rebuild TensorFlow with the appropriate compiler flags.\n"
     ]
    }
   ],
   "source": [
    "# celda 14 a modificar, hiperparametros\n",
    "HP_NUM_UNITS_L1 = hp.HParam('num_units_l1', hp.Discrete([128, 64]))\n",
    "HP_NUM_UNITS_L2 = hp.HParam('num_units_l2', hp.Discrete([32, 16]))\n",
    "HP_DROPOUT = hp.HParam('dropout', hp.Discrete([0.05, 0.10]))\n",
    "HP_LEARNINGRATE= hp.HParam('learning_rate', hp.Discrete([0.1, 0.01, 0.001]))\n",
    "\n",
    "METRIC_ACCURACY = 'accuracy'\n",
    "\n",
    "with tf.summary.create_file_writer('logs_ep/hparam_tuning').as_default():\n",
    "  hp.hparams_config(\n",
    "    hparams=[HP_NUM_UNITS_L1, HP_NUM_UNITS_L2, HP_DROPOUT, HP_LEARNINGRATE],\n",
    "    metrics=[hp.Metric(METRIC_ACCURACY, display_name='Accuracy')],\n",
    "  )"
   ]
  },
  {
   "cell_type": "code",
   "execution_count": 10,
   "metadata": {},
   "outputs": [],
   "source": [
    "def architecture(input_shape, num_classes, units_l1, units_l2, dropout=True, p_drop=0):\n",
    "    \n",
    "    # Defining the input as a tensor with shape input_shape. \n",
    "    InputLayer = Input(input_shape)\n",
    "    \n",
    "    # Flattening the input tensor of dimensions (32, 32, 3) to a tensor of dimensions (3072)\n",
    "    x = Flatten()(InputLayer)\n",
    "    if dropout == True:\n",
    "        x = Dropout(p_drop)(x)  # yo tengo la ultima version de keras, en esta 'p' se reemplaza por 'rate'\n",
    "    \n",
    "    # 1st hidden layer\n",
    "    x = Dense(units_l1, kernel_initializer='random_uniform', bias_initializer='zeros', name='hl_1')(x)\n",
    "    x = Activation('sigmoid')(x)\n",
    "    if dropout == True:\n",
    "        x = Dropout(p_drop)(x)\n",
    "\n",
    "    # 2nd hidden layer\n",
    "    x = Dense(units_l2, kernel_initializer='random_uniform', bias_initializer='zeros', name='hl_2')(x)\n",
    "    x = Activation('sigmoid')(x)\n",
    "    if dropout == True:\n",
    "        x = Dropout(p_drop)(x)\n",
    "    \n",
    "    # For the output layer we use the activation function 'softmax')\n",
    "    x = Dense(num_classes, kernel_initializer='random_uniform', bias_initializer='zeros')(x)\n",
    "    OutputLayer = Activation('softmax', name='output-layer')(x)\n",
    "    \n",
    "    # This creates the Keras model instance, you'll use this instance to train/test the model.\n",
    "    model = Model(inputs = InputLayer, outputs = OutputLayer, name='FashionMNISTModel')\n",
    "\n",
    "    return model"
   ]
  },
  {
   "cell_type": "code",
   "execution_count": 11,
   "metadata": {
    "id": "hG-zalNfW5Zl"
   },
   "outputs": [],
   "source": [
    "one_image = (28, 28, 1)\n",
    "num_classes = 10\n",
    "\n",
    "\n",
    "def train_test_model(hparams):\n",
    "\n",
    "    model = architecture(input_shape=one_image, num_classes=num_classes, \n",
    "                         units_l1=hparams[HP_NUM_UNITS_L1], units_l2=hparams[HP_NUM_UNITS_L2],\n",
    "                         p_drop=hparams[HP_DROPOUT])\n",
    "    model.compile(\n",
    "          optimizer='adam',\n",
    "          loss='categorical_crossentropy',\n",
    "          metrics=['accuracy']\n",
    "      )\n",
    "    model.optimizer.learning_rate=hparams[HP_LEARNINGRATE]\n",
    "    model.fit(x_train, train_y, epochs = 10, batch_size = 32, \\\n",
    "                                validation_split = 0.1, shuffle=True, verbose=0)\n",
    "    _, accuracy = model.evaluate(x = test_x, y = test_y)\n",
    "    return accuracy"
   ]
  },
  {
   "cell_type": "code",
   "execution_count": 12,
   "metadata": {
    "id": "8j-fO6nEXRfW"
   },
   "outputs": [],
   "source": [
    "def training(run_dir, hparams):\n",
    "    with tf.summary.create_file_writer(run_dir).as_default():\n",
    "        hp.hparams(hparams)  # record the values used in this trial\n",
    "        accuracy = train_test_model(hparams)\n",
    "        tf.summary.scalar(METRIC_ACCURACY, accuracy, step=1)"
   ]
  },
  {
   "cell_type": "code",
   "execution_count": 13,
   "metadata": {
    "id": "KbqT5n-AXd0h"
   },
   "outputs": [
    {
     "name": "stdout",
     "output_type": "stream",
     "text": [
      "--- Starting trial: run-0\n",
      "{'num_units_l1': 64, 'num_units_l2': 16, 'dropout': 0.05, 'learning_rate': 0.001}\n",
      "313/313 [==============================] - 0s 700us/step - loss: 0.6676 - accuracy: 0.7542\n",
      "--- Starting trial: run-1\n",
      "{'num_units_l1': 64, 'num_units_l2': 16, 'dropout': 0.05, 'learning_rate': 0.01}\n",
      "313/313 [==============================] - 0s 731us/step - loss: 1.3627 - accuracy: 0.3772\n",
      "--- Starting trial: run-2\n",
      "{'num_units_l1': 64, 'num_units_l2': 16, 'dropout': 0.05, 'learning_rate': 0.1}\n",
      "313/313 [==============================] - 0s 713us/step - loss: 2.3079 - accuracy: 0.1000\n",
      "--- Starting trial: run-3\n",
      "{'num_units_l1': 64, 'num_units_l2': 16, 'dropout': 0.1, 'learning_rate': 0.001}\n",
      "313/313 [==============================] - 0s 687us/step - loss: 0.7254 - accuracy: 0.7188\n",
      "--- Starting trial: run-4\n",
      "{'num_units_l1': 64, 'num_units_l2': 16, 'dropout': 0.1, 'learning_rate': 0.01}\n",
      "313/313 [==============================] - 0s 653us/step - loss: 1.5414 - accuracy: 0.3737\n",
      "--- Starting trial: run-5\n",
      "{'num_units_l1': 64, 'num_units_l2': 16, 'dropout': 0.1, 'learning_rate': 0.1}\n",
      "313/313 [==============================] - 0s 694us/step - loss: 2.3371 - accuracy: 0.1000\n",
      "--- Starting trial: run-6\n",
      "{'num_units_l1': 64, 'num_units_l2': 32, 'dropout': 0.05, 'learning_rate': 0.001}\n",
      "313/313 [==============================] - 0s 1ms/step - loss: 0.6495 - accuracy: 0.7430\n",
      "--- Starting trial: run-7\n",
      "{'num_units_l1': 64, 'num_units_l2': 32, 'dropout': 0.05, 'learning_rate': 0.01}\n",
      "313/313 [==============================] - 0s 672us/step - loss: 1.5811 - accuracy: 0.2849\n",
      "--- Starting trial: run-8\n",
      "{'num_units_l1': 64, 'num_units_l2': 32, 'dropout': 0.05, 'learning_rate': 0.1}\n",
      "313/313 [==============================] - 0s 880us/step - loss: 2.3335 - accuracy: 0.1000\n",
      "--- Starting trial: run-9\n",
      "{'num_units_l1': 64, 'num_units_l2': 32, 'dropout': 0.1, 'learning_rate': 0.001}\n",
      "313/313 [==============================] - 0s 690us/step - loss: 0.6499 - accuracy: 0.7527\n",
      "--- Starting trial: run-10\n",
      "{'num_units_l1': 64, 'num_units_l2': 32, 'dropout': 0.1, 'learning_rate': 0.01}\n",
      "313/313 [==============================] - 0s 695us/step - loss: 1.4019 - accuracy: 0.3918\n",
      "--- Starting trial: run-11\n",
      "{'num_units_l1': 64, 'num_units_l2': 32, 'dropout': 0.1, 'learning_rate': 0.1}\n",
      "313/313 [==============================] - 0s 697us/step - loss: 2.3115 - accuracy: 0.1000\n",
      "--- Starting trial: run-12\n",
      "{'num_units_l1': 128, 'num_units_l2': 16, 'dropout': 0.05, 'learning_rate': 0.001}\n",
      "313/313 [==============================] - 0s 697us/step - loss: 0.6656 - accuracy: 0.7329\n",
      "--- Starting trial: run-13\n",
      "{'num_units_l1': 128, 'num_units_l2': 16, 'dropout': 0.05, 'learning_rate': 0.01}\n",
      "313/313 [==============================] - 0s 922us/step - loss: 1.4517 - accuracy: 0.4014\n",
      "--- Starting trial: run-14\n",
      "{'num_units_l1': 128, 'num_units_l2': 16, 'dropout': 0.05, 'learning_rate': 0.1}\n",
      "313/313 [==============================] - 0s 915us/step - loss: 2.3205 - accuracy: 0.1000\n",
      "--- Starting trial: run-15\n",
      "{'num_units_l1': 128, 'num_units_l2': 16, 'dropout': 0.1, 'learning_rate': 0.001}\n",
      "313/313 [==============================] - 0s 874us/step - loss: 0.6599 - accuracy: 0.7523\n",
      "--- Starting trial: run-16\n",
      "{'num_units_l1': 128, 'num_units_l2': 16, 'dropout': 0.1, 'learning_rate': 0.01}\n",
      "313/313 [==============================] - 0s 868us/step - loss: 1.3949 - accuracy: 0.3826\n",
      "--- Starting trial: run-17\n",
      "{'num_units_l1': 128, 'num_units_l2': 16, 'dropout': 0.1, 'learning_rate': 0.1}\n",
      "313/313 [==============================] - 0s 799us/step - loss: 2.3201 - accuracy: 0.1000\n",
      "--- Starting trial: run-18\n",
      "{'num_units_l1': 128, 'num_units_l2': 32, 'dropout': 0.05, 'learning_rate': 0.001}\n",
      "313/313 [==============================] - 0s 991us/step - loss: 0.6461 - accuracy: 0.7425\n",
      "--- Starting trial: run-19\n",
      "{'num_units_l1': 128, 'num_units_l2': 32, 'dropout': 0.05, 'learning_rate': 0.01}\n",
      "313/313 [==============================] - 0s 982us/step - loss: 1.2358 - accuracy: 0.4576\n",
      "--- Starting trial: run-20\n",
      "{'num_units_l1': 128, 'num_units_l2': 32, 'dropout': 0.05, 'learning_rate': 0.1}\n",
      "313/313 [==============================] - 0s 895us/step - loss: 2.3388 - accuracy: 0.1000\n",
      "--- Starting trial: run-21\n",
      "{'num_units_l1': 128, 'num_units_l2': 32, 'dropout': 0.1, 'learning_rate': 0.001}\n",
      "313/313 [==============================] - 0s 867us/step - loss: 0.6459 - accuracy: 0.7526\n",
      "--- Starting trial: run-22\n",
      "{'num_units_l1': 128, 'num_units_l2': 32, 'dropout': 0.1, 'learning_rate': 0.01}\n",
      "313/313 [==============================] - 0s 881us/step - loss: 1.3117 - accuracy: 0.4675\n",
      "--- Starting trial: run-23\n",
      "{'num_units_l1': 128, 'num_units_l2': 32, 'dropout': 0.1, 'learning_rate': 0.1}\n",
      "313/313 [==============================] - 1s 1ms/step - loss: 2.3137 - accuracy: 0.1000\n"
     ]
    }
   ],
   "source": [
    "from collections import OrderedDict, namedtuple\n",
    "from itertools import product\n",
    "session_num = 0\n",
    "\n",
    "class RunBuilder():\n",
    "    @staticmethod\n",
    "    def get_runs(params):\n",
    "        Run=namedtuple('Run', params.keys())\n",
    "\n",
    "        runs=[]\n",
    "\n",
    "        for v in product(*params.values()):\n",
    "            runs.append(Run(*v))\n",
    "\n",
    "        return runs\n",
    "    \n",
    "params=OrderedDict(\n",
    "        num_units_l1=[num_units for num_units in HP_NUM_UNITS_L1.domain.values],\n",
    "        num_units_l2=[num_units for num_units in HP_NUM_UNITS_L2.domain.values],\n",
    "        p_drop=[dropout_rate for dropout_rate in (HP_DROPOUT.domain.values)],\n",
    "        lr=[lr for lr in HP_LEARNINGRATE.domain.values],\n",
    "    )\n",
    "\n",
    "for run in RunBuilder().get_runs(params):\n",
    "    hparams = {\n",
    "          HP_NUM_UNITS_L1: run.num_units_l1,\n",
    "          HP_NUM_UNITS_L2: run.num_units_l2,\n",
    "          HP_DROPOUT: run.p_drop,\n",
    "          HP_LEARNINGRATE: run.lr\n",
    "      }\n",
    "    run_name = \"run-%d\" % session_num\n",
    "    print('--- Starting trial: %s' % run_name)\n",
    "    print({h.name: hparams[h] for h in hparams})\n",
    "    training('logs_ep/hparam_tuning/' + run_name, hparams)\n",
    "    session_num += 1"
   ]
  },
  {
   "cell_type": "markdown",
   "metadata": {
    "id": "qSyjWQ3mPKT9"
   },
   "source": [
    "## Visualización de los resultados en Tensorboard"
   ]
  },
  {
   "cell_type": "code",
   "execution_count": 15,
   "metadata": {
    "id": "Xf4KM-U2bbP_"
   },
   "outputs": [
    {
     "data": {
      "text/html": [
       "\n",
       "      <iframe id=\"tensorboard-frame-f479c3b47f02c9c6\" width=\"100%\" height=\"800\" frameborder=\"0\">\n",
       "      </iframe>\n",
       "      <script>\n",
       "        (function() {\n",
       "          const frame = document.getElementById(\"tensorboard-frame-f479c3b47f02c9c6\");\n",
       "          const url = new URL(\"http://localhost\");\n",
       "          const port = 6006;\n",
       "          if (port) {\n",
       "            url.port = port;\n",
       "          }\n",
       "          frame.src = url;\n",
       "        })();\n",
       "      </script>\n",
       "    "
      ],
      "text/plain": [
       "<IPython.core.display.HTML object>"
      ]
     },
     "metadata": {},
     "output_type": "display_data"
    }
   ],
   "source": [
    "%tensorboard --logdir logs_ep/hparam_tuning"
   ]
  },
  {
   "cell_type": "code",
   "execution_count": 16,
   "metadata": {},
   "outputs": [
    {
     "name": "stdout",
     "output_type": "stream",
     "text": [
      "Los tres mejores modelos\n"
     ]
    },
    {
     "data": {
      "text/html": [
       "<div>\n",
       "<style scoped>\n",
       "    .dataframe tbody tr th:only-of-type {\n",
       "        vertical-align: middle;\n",
       "    }\n",
       "\n",
       "    .dataframe tbody tr th {\n",
       "        vertical-align: top;\n",
       "    }\n",
       "\n",
       "    .dataframe thead th {\n",
       "        text-align: right;\n",
       "    }\n",
       "</style>\n",
       "<table border=\"1\" class=\"dataframe\">\n",
       "  <thead>\n",
       "    <tr style=\"text-align: right;\">\n",
       "      <th></th>\n",
       "      <th>num_units_l1</th>\n",
       "      <th>num_units_l2</th>\n",
       "      <th>dropout</th>\n",
       "      <th>learning_rate</th>\n",
       "      <th>Accuracy</th>\n",
       "    </tr>\n",
       "  </thead>\n",
       "  <tbody>\n",
       "    <tr>\n",
       "      <th>3</th>\n",
       "      <td>64.0</td>\n",
       "      <td>16.0</td>\n",
       "      <td>0.05</td>\n",
       "      <td>0.001</td>\n",
       "      <td>0.7542</td>\n",
       "    </tr>\n",
       "    <tr>\n",
       "      <th>22</th>\n",
       "      <td>64.0</td>\n",
       "      <td>32.0</td>\n",
       "      <td>0.10</td>\n",
       "      <td>0.001</td>\n",
       "      <td>0.7527</td>\n",
       "    </tr>\n",
       "    <tr>\n",
       "      <th>1</th>\n",
       "      <td>128.0</td>\n",
       "      <td>32.0</td>\n",
       "      <td>0.10</td>\n",
       "      <td>0.001</td>\n",
       "      <td>0.7526</td>\n",
       "    </tr>\n",
       "  </tbody>\n",
       "</table>\n",
       "</div>"
      ],
      "text/plain": [
       "    num_units_l1  num_units_l2  dropout  learning_rate  Accuracy\n",
       "3           64.0          16.0     0.05          0.001    0.7542\n",
       "22          64.0          32.0     0.10          0.001    0.7527\n",
       "1          128.0          32.0     0.10          0.001    0.7526"
      ]
     },
     "execution_count": 16,
     "metadata": {},
     "output_type": "execute_result"
    }
   ],
   "source": [
    "# no correr esta celda, es solo para que yo (Alejandra) pueda visualizar los datos\n",
    "from pandas import read_csv\n",
    "df_hpars = read_csv('./hparams_table_ep.csv')\n",
    "print('Los tres mejores modelos')\n",
    "df_hpars.nlargest(3, ['Accuracy'])"
   ]
  },
  {
   "cell_type": "code",
   "execution_count": 17,
   "metadata": {},
   "outputs": [],
   "source": [
    "# elegimos el mejor modelo\n",
    "n_units_l1 = 64\n",
    "n_units_l2 = 16\n",
    "p_drop     = 0.05\n",
    "\n",
    "def architecture(input_shape, num_classes, dropout=True):\n",
    "    \n",
    "    # Defining the input as a tensor with shape input_shape. \n",
    "    InputLayer = Input(input_shape)\n",
    "    \n",
    "    # Flattening the input tensor of dimensions (32, 32, 3) to a tensor of dimensions (3072)\n",
    "    x = Flatten()(InputLayer)\n",
    "    if dropout == True:\n",
    "        x = Dropout(p_drop)(x)  # yo tengo la ultima version de keras, en esta 'p' se reemplaza por 'rate'\n",
    "    \n",
    "    # 1st hidden layer\n",
    "    x = Dense(n_units_l1, kernel_initializer='random_uniform', bias_initializer='zeros', name='hl_1')(x)\n",
    "    x = Activation('sigmoid')(x)\n",
    "    if dropout == True:\n",
    "        x = Dropout(p_drop)(x)\n",
    "\n",
    "    # 2nd hidden layer\n",
    "    x = Dense(n_units_l2, kernel_initializer='random_uniform', bias_initializer='zeros', name='hl_2')(x)\n",
    "    x = Activation('sigmoid')(x)\n",
    "    if dropout == True:\n",
    "        x = Dropout(p_drop)(x)\n",
    "    \n",
    "    # For the output layer we use the activation function 'softmax')\n",
    "    x = Dense(num_classes, kernel_initializer='random_uniform', bias_initializer='zeros')(x)\n",
    "    OutputLayer = Activation('softmax', name='output-layer')(x)\n",
    "    \n",
    "    # This creates the Keras model instance, you'll use this instance to train/test the model.\n",
    "    model = Model(inputs = InputLayer, outputs = OutputLayer, name='FashionMNISTModel')\n",
    "\n",
    "    return model"
   ]
  },
  {
   "cell_type": "code",
   "execution_count": 28,
   "metadata": {},
   "outputs": [],
   "source": [
    "best_model = architecture((28,28,1), 10)"
   ]
  },
  {
   "cell_type": "code",
   "execution_count": 29,
   "metadata": {},
   "outputs": [
    {
     "name": "stdout",
     "output_type": "stream",
     "text": [
      "Model: \"FashionMNISTModel\"\n",
      "_________________________________________________________________\n",
      " Layer (type)                Output Shape              Param #   \n",
      "=================================================================\n",
      " input_27 (InputLayer)       [(None, 28, 28, 1)]       0         \n",
      "                                                                 \n",
      " flatten_26 (Flatten)        (None, 784)               0         \n",
      "                                                                 \n",
      " dropout_78 (Dropout)        (None, 784)               0         \n",
      "                                                                 \n",
      " hl_1 (Dense)                (None, 64)                50240     \n",
      "                                                                 \n",
      " activation_52 (Activation)  (None, 64)                0         \n",
      "                                                                 \n",
      " dropout_79 (Dropout)        (None, 64)                0         \n",
      "                                                                 \n",
      " hl_2 (Dense)                (None, 16)                1040      \n",
      "                                                                 \n",
      " activation_53 (Activation)  (None, 16)                0         \n",
      "                                                                 \n",
      " dropout_80 (Dropout)        (None, 16)                0         \n",
      "                                                                 \n",
      " dense_26 (Dense)            (None, 10)                170       \n",
      "                                                                 \n",
      " output-layer (Activation)   (None, 10)                0         \n",
      "                                                                 \n",
      "=================================================================\n",
      "Total params: 51,450\n",
      "Trainable params: 51,450\n",
      "Non-trainable params: 0\n",
      "_________________________________________________________________\n"
     ]
    }
   ],
   "source": [
    "best_model.summary()"
   ]
  },
  {
   "cell_type": "code",
   "execution_count": 30,
   "metadata": {},
   "outputs": [],
   "source": [
    "from keras.optimizers import Adam\n",
    "\n",
    "learning_rate = 0.001\n",
    "optimizer     = Adam(learning_rate=learning_rate)\n",
    "loss_function   = 'categorical_crossentropy'\n",
    "metric_function = 'accuracy'"
   ]
  },
  {
   "cell_type": "code",
   "execution_count": 31,
   "metadata": {},
   "outputs": [],
   "source": [
    "best_model.compile(optimizer = optimizer, loss = loss_function, metrics = [metric_function])"
   ]
  },
  {
   "cell_type": "code",
   "execution_count": 32,
   "metadata": {},
   "outputs": [
    {
     "name": "stdout",
     "output_type": "stream",
     "text": [
      "Epoch 1/100\n",
      "1688/1688 [==============================] - 4s 2ms/step - loss: 1.5556 - accuracy: 0.3486 - val_loss: 1.2433 - val_accuracy: 0.4615\n",
      "Epoch 2/100\n",
      "1688/1688 [==============================] - 4s 2ms/step - loss: 1.1907 - accuracy: 0.4794 - val_loss: 1.0802 - val_accuracy: 0.5623\n",
      "Epoch 3/100\n",
      "1688/1688 [==============================] - 3s 2ms/step - loss: 1.0410 - accuracy: 0.5745 - val_loss: 0.9213 - val_accuracy: 0.6240\n",
      "Epoch 4/100\n",
      "1688/1688 [==============================] - 3s 2ms/step - loss: 0.9558 - accuracy: 0.6120 - val_loss: 0.8595 - val_accuracy: 0.6405\n",
      "Epoch 5/100\n",
      "1688/1688 [==============================] - 3s 2ms/step - loss: 0.9156 - accuracy: 0.6360 - val_loss: 0.7928 - val_accuracy: 0.6933\n",
      "Epoch 6/100\n",
      "1688/1688 [==============================] - 3s 2ms/step - loss: 0.8791 - accuracy: 0.6503 - val_loss: 0.7979 - val_accuracy: 0.6862\n",
      "Epoch 7/100\n",
      "1688/1688 [==============================] - 4s 2ms/step - loss: 0.8295 - accuracy: 0.6749 - val_loss: 0.7423 - val_accuracy: 0.7125\n",
      "Epoch 8/100\n",
      "1688/1688 [==============================] - 4s 2ms/step - loss: 0.8065 - accuracy: 0.6824 - val_loss: 0.7216 - val_accuracy: 0.7138\n",
      "Epoch 9/100\n",
      "1688/1688 [==============================] - 4s 2ms/step - loss: 0.8067 - accuracy: 0.6874 - val_loss: 0.7033 - val_accuracy: 0.7262\n",
      "Epoch 10/100\n",
      "1688/1688 [==============================] - 3s 2ms/step - loss: 0.7868 - accuracy: 0.6944 - val_loss: 0.7349 - val_accuracy: 0.7180\n",
      "Epoch 11/100\n",
      "1688/1688 [==============================] - 4s 2ms/step - loss: 0.7971 - accuracy: 0.6828 - val_loss: 0.7109 - val_accuracy: 0.7208\n",
      "Epoch 12/100\n",
      "1688/1688 [==============================] - 4s 2ms/step - loss: 0.7705 - accuracy: 0.6956 - val_loss: 0.6894 - val_accuracy: 0.7380\n",
      "Epoch 13/100\n",
      "1688/1688 [==============================] - 4s 2ms/step - loss: 0.7639 - accuracy: 0.7058 - val_loss: 0.6755 - val_accuracy: 0.7488\n",
      "Epoch 14/100\n",
      "1688/1688 [==============================] - 4s 2ms/step - loss: 0.7592 - accuracy: 0.7097 - val_loss: 0.6732 - val_accuracy: 0.7453\n",
      "Epoch 15/100\n",
      "1688/1688 [==============================] - 4s 2ms/step - loss: 0.7553 - accuracy: 0.7091 - val_loss: 0.6607 - val_accuracy: 0.7540\n",
      "Epoch 16/100\n",
      "1688/1688 [==============================] - 4s 2ms/step - loss: 0.7398 - accuracy: 0.7216 - val_loss: 0.6626 - val_accuracy: 0.7573\n",
      "Epoch 17/100\n",
      "1688/1688 [==============================] - 4s 2ms/step - loss: 0.7325 - accuracy: 0.7276 - val_loss: 0.6514 - val_accuracy: 0.7617\n",
      "Epoch 18/100\n",
      "1688/1688 [==============================] - 3s 2ms/step - loss: 0.7148 - accuracy: 0.7335 - val_loss: 0.6555 - val_accuracy: 0.7572\n",
      "Epoch 19/100\n",
      "1688/1688 [==============================] - 3s 2ms/step - loss: 0.7229 - accuracy: 0.7285 - val_loss: 0.6386 - val_accuracy: 0.7577\n",
      "Epoch 20/100\n",
      "1688/1688 [==============================] - 4s 2ms/step - loss: 0.7250 - accuracy: 0.7261 - val_loss: 0.6629 - val_accuracy: 0.7550\n",
      "Epoch 21/100\n",
      "1688/1688 [==============================] - 4s 2ms/step - loss: 0.7253 - accuracy: 0.7254 - val_loss: 0.6493 - val_accuracy: 0.7527\n",
      "Epoch 22/100\n",
      "1688/1688 [==============================] - 4s 2ms/step - loss: 0.7274 - accuracy: 0.7233 - val_loss: 0.6447 - val_accuracy: 0.7655\n",
      "Epoch 23/100\n",
      "1688/1688 [==============================] - 3s 2ms/step - loss: 0.7052 - accuracy: 0.7370 - val_loss: 0.6082 - val_accuracy: 0.7713\n",
      "Epoch 24/100\n",
      "1688/1688 [==============================] - 3s 2ms/step - loss: 0.6943 - accuracy: 0.7350 - val_loss: 0.6342 - val_accuracy: 0.7570\n",
      "Epoch 25/100\n",
      "1688/1688 [==============================] - 4s 2ms/step - loss: 0.7084 - accuracy: 0.7205 - val_loss: 0.6480 - val_accuracy: 0.7458\n",
      "Epoch 26/100\n",
      "1688/1688 [==============================] - 3s 2ms/step - loss: 0.6988 - accuracy: 0.7300 - val_loss: 0.6327 - val_accuracy: 0.7682\n",
      "Epoch 27/100\n",
      "1688/1688 [==============================] - 4s 2ms/step - loss: 0.7013 - accuracy: 0.7326 - val_loss: 0.6393 - val_accuracy: 0.7625\n",
      "Epoch 28/100\n",
      "1688/1688 [==============================] - 3s 2ms/step - loss: 0.6991 - accuracy: 0.7314 - val_loss: 0.6284 - val_accuracy: 0.7782\n",
      "Epoch 29/100\n",
      "1688/1688 [==============================] - 4s 2ms/step - loss: 0.6918 - accuracy: 0.7442 - val_loss: 0.6243 - val_accuracy: 0.7693\n",
      "Epoch 30/100\n",
      "1688/1688 [==============================] - 3s 2ms/step - loss: 0.6853 - accuracy: 0.7429 - val_loss: 0.6003 - val_accuracy: 0.7743\n",
      "Epoch 31/100\n",
      "1688/1688 [==============================] - 3s 2ms/step - loss: 0.6671 - accuracy: 0.7517 - val_loss: 0.6192 - val_accuracy: 0.7637\n",
      "Epoch 32/100\n",
      "1688/1688 [==============================] - 3s 2ms/step - loss: 0.6715 - accuracy: 0.7475 - val_loss: 0.5906 - val_accuracy: 0.7738\n",
      "Epoch 33/100\n",
      "1688/1688 [==============================] - 3s 2ms/step - loss: 0.6681 - accuracy: 0.7535 - val_loss: 0.5957 - val_accuracy: 0.7852\n",
      "Epoch 34/100\n",
      "1688/1688 [==============================] - 4s 2ms/step - loss: 0.6561 - accuracy: 0.7582 - val_loss: 0.5729 - val_accuracy: 0.7862\n",
      "Epoch 35/100\n",
      "1688/1688 [==============================] - 4s 2ms/step - loss: 0.6562 - accuracy: 0.7571 - val_loss: 0.5898 - val_accuracy: 0.7783\n",
      "Epoch 36/100\n",
      "1688/1688 [==============================] - 3s 2ms/step - loss: 0.6687 - accuracy: 0.7467 - val_loss: 0.6004 - val_accuracy: 0.7795\n",
      "Epoch 37/100\n",
      "1688/1688 [==============================] - 4s 2ms/step - loss: 0.6552 - accuracy: 0.7567 - val_loss: 0.6204 - val_accuracy: 0.7675\n",
      "Epoch 38/100\n",
      "1688/1688 [==============================] - 4s 2ms/step - loss: 0.6660 - accuracy: 0.7491 - val_loss: 0.6150 - val_accuracy: 0.7522\n",
      "Epoch 39/100\n",
      "1688/1688 [==============================] - 3s 2ms/step - loss: 0.6721 - accuracy: 0.7440 - val_loss: 0.5839 - val_accuracy: 0.7817\n",
      "Epoch 40/100\n",
      "1688/1688 [==============================] - 4s 2ms/step - loss: 0.6449 - accuracy: 0.7666 - val_loss: 0.5853 - val_accuracy: 0.7802\n",
      "Epoch 41/100\n",
      "1688/1688 [==============================] - 3s 2ms/step - loss: 0.6493 - accuracy: 0.7591 - val_loss: 0.6174 - val_accuracy: 0.7747\n",
      "Epoch 42/100\n",
      "1688/1688 [==============================] - 4s 2ms/step - loss: 0.6464 - accuracy: 0.7623 - val_loss: 0.5629 - val_accuracy: 0.7928\n",
      "Epoch 43/100\n",
      "1688/1688 [==============================] - 4s 2ms/step - loss: 0.6401 - accuracy: 0.7696 - val_loss: 0.5494 - val_accuracy: 0.7990\n",
      "Epoch 44/100\n",
      "1688/1688 [==============================] - 3s 2ms/step - loss: 0.6300 - accuracy: 0.7720 - val_loss: 0.5653 - val_accuracy: 0.8005\n",
      "Epoch 45/100\n",
      "1688/1688 [==============================] - 3s 2ms/step - loss: 0.6365 - accuracy: 0.7637 - val_loss: 0.5678 - val_accuracy: 0.7892\n",
      "Epoch 46/100\n",
      "1688/1688 [==============================] - 3s 2ms/step - loss: 0.6411 - accuracy: 0.7651 - val_loss: 0.5710 - val_accuracy: 0.7848\n",
      "Epoch 47/100\n",
      "1688/1688 [==============================] - 4s 3ms/step - loss: 0.6292 - accuracy: 0.7655 - val_loss: 0.5799 - val_accuracy: 0.7632\n",
      "Epoch 48/100\n",
      "1688/1688 [==============================] - 4s 2ms/step - loss: 0.6490 - accuracy: 0.7542 - val_loss: 0.5818 - val_accuracy: 0.7785\n",
      "Epoch 49/100\n",
      "1688/1688 [==============================] - 4s 3ms/step - loss: 0.6425 - accuracy: 0.7584 - val_loss: 0.5718 - val_accuracy: 0.7813\n",
      "Epoch 50/100\n",
      "1688/1688 [==============================] - 4s 2ms/step - loss: 0.6449 - accuracy: 0.7614 - val_loss: 0.5554 - val_accuracy: 0.7960\n",
      "Epoch 51/100\n",
      "1688/1688 [==============================] - 4s 2ms/step - loss: 0.6364 - accuracy: 0.7655 - val_loss: 0.5683 - val_accuracy: 0.7968\n",
      "Epoch 52/100\n",
      "1688/1688 [==============================] - 4s 2ms/step - loss: 0.6272 - accuracy: 0.7741 - val_loss: 0.5663 - val_accuracy: 0.7957\n",
      "Epoch 53/100\n",
      "1688/1688 [==============================] - 4s 2ms/step - loss: 0.6387 - accuracy: 0.7683 - val_loss: 0.5640 - val_accuracy: 0.7912\n",
      "Epoch 54/100\n",
      "1688/1688 [==============================] - 5s 3ms/step - loss: 0.6147 - accuracy: 0.7789 - val_loss: 0.5596 - val_accuracy: 0.7995\n",
      "Epoch 55/100\n",
      "1688/1688 [==============================] - 4s 2ms/step - loss: 0.6151 - accuracy: 0.7795 - val_loss: 0.5673 - val_accuracy: 0.7990\n",
      "Epoch 56/100\n",
      "1688/1688 [==============================] - 4s 2ms/step - loss: 0.6319 - accuracy: 0.7708 - val_loss: 0.5706 - val_accuracy: 0.7992\n",
      "Epoch 57/100\n",
      "1688/1688 [==============================] - 4s 2ms/step - loss: 0.6246 - accuracy: 0.7719 - val_loss: 0.5686 - val_accuracy: 0.7907\n",
      "Epoch 58/100\n",
      "1688/1688 [==============================] - 4s 2ms/step - loss: 0.6194 - accuracy: 0.7718 - val_loss: 0.5481 - val_accuracy: 0.8038\n",
      "Epoch 59/100\n",
      "1688/1688 [==============================] - 3s 2ms/step - loss: 0.6146 - accuracy: 0.7763 - val_loss: 0.5765 - val_accuracy: 0.7857\n",
      "Epoch 60/100\n",
      "1688/1688 [==============================] - 3s 2ms/step - loss: 0.6177 - accuracy: 0.7702 - val_loss: 0.5581 - val_accuracy: 0.8025\n",
      "Epoch 61/100\n",
      "1688/1688 [==============================] - 3s 2ms/step - loss: 0.5917 - accuracy: 0.7885 - val_loss: 0.5409 - val_accuracy: 0.8068\n",
      "Epoch 62/100\n",
      "1688/1688 [==============================] - 3s 2ms/step - loss: 0.6106 - accuracy: 0.7831 - val_loss: 0.5625 - val_accuracy: 0.7808\n",
      "Epoch 63/100\n",
      "1688/1688 [==============================] - 3s 2ms/step - loss: 0.6100 - accuracy: 0.7811 - val_loss: 0.5472 - val_accuracy: 0.8055\n",
      "Epoch 64/100\n",
      "1688/1688 [==============================] - 3s 2ms/step - loss: 0.6048 - accuracy: 0.7857 - val_loss: 0.5449 - val_accuracy: 0.8080\n",
      "Epoch 65/100\n",
      "1688/1688 [==============================] - 3s 2ms/step - loss: 0.6051 - accuracy: 0.7846 - val_loss: 0.5564 - val_accuracy: 0.8000\n",
      "Epoch 66/100\n",
      "1688/1688 [==============================] - 3s 2ms/step - loss: 0.5951 - accuracy: 0.7881 - val_loss: 0.5530 - val_accuracy: 0.7967\n",
      "Epoch 67/100\n",
      "1688/1688 [==============================] - 3s 2ms/step - loss: 0.6021 - accuracy: 0.7808 - val_loss: 0.5513 - val_accuracy: 0.7960\n",
      "Epoch 68/100\n",
      "1688/1688 [==============================] - 3s 2ms/step - loss: 0.5974 - accuracy: 0.7838 - val_loss: 0.5289 - val_accuracy: 0.8152\n",
      "Epoch 69/100\n",
      "1688/1688 [==============================] - 3s 2ms/step - loss: 0.5969 - accuracy: 0.7851 - val_loss: 0.5492 - val_accuracy: 0.8028\n",
      "Epoch 70/100\n",
      "1688/1688 [==============================] - 3s 2ms/step - loss: 0.6109 - accuracy: 0.7745 - val_loss: 0.5514 - val_accuracy: 0.7965\n",
      "Epoch 71/100\n",
      "1688/1688 [==============================] - 3s 2ms/step - loss: 0.5914 - accuracy: 0.7844 - val_loss: 0.5365 - val_accuracy: 0.8027\n",
      "Epoch 72/100\n",
      "1688/1688 [==============================] - 3s 2ms/step - loss: 0.5891 - accuracy: 0.7840 - val_loss: 0.5278 - val_accuracy: 0.8098\n",
      "Epoch 73/100\n",
      "1688/1688 [==============================] - 3s 2ms/step - loss: 0.5912 - accuracy: 0.7861 - val_loss: 0.5447 - val_accuracy: 0.8090\n",
      "Epoch 74/100\n",
      "1688/1688 [==============================] - 3s 2ms/step - loss: 0.6016 - accuracy: 0.7851 - val_loss: 0.5400 - val_accuracy: 0.8050\n",
      "Epoch 75/100\n",
      "1688/1688 [==============================] - 3s 2ms/step - loss: 0.6052 - accuracy: 0.7801 - val_loss: 0.5519 - val_accuracy: 0.7990\n",
      "Epoch 76/100\n",
      "1688/1688 [==============================] - 3s 2ms/step - loss: 0.6154 - accuracy: 0.7771 - val_loss: 0.5605 - val_accuracy: 0.7995\n",
      "Epoch 77/100\n",
      "1688/1688 [==============================] - 3s 2ms/step - loss: 0.6068 - accuracy: 0.7836 - val_loss: 0.5413 - val_accuracy: 0.8080\n",
      "Epoch 78/100\n",
      "1688/1688 [==============================] - 3s 2ms/step - loss: 0.6066 - accuracy: 0.7818 - val_loss: 0.5474 - val_accuracy: 0.8005\n",
      "Epoch 79/100\n",
      "1688/1688 [==============================] - 3s 2ms/step - loss: 0.6129 - accuracy: 0.7817 - val_loss: 0.5573 - val_accuracy: 0.8042\n",
      "Epoch 80/100\n",
      "1688/1688 [==============================] - 3s 2ms/step - loss: 0.6157 - accuracy: 0.7806 - val_loss: 0.5509 - val_accuracy: 0.8088\n",
      "Epoch 81/100\n",
      "1688/1688 [==============================] - 3s 2ms/step - loss: 0.6113 - accuracy: 0.7822 - val_loss: 0.5418 - val_accuracy: 0.8042\n",
      "Epoch 82/100\n",
      "1688/1688 [==============================] - 3s 2ms/step - loss: 0.6093 - accuracy: 0.7809 - val_loss: 0.5643 - val_accuracy: 0.7893\n",
      "Epoch 83/100\n",
      "1688/1688 [==============================] - 3s 2ms/step - loss: 0.6207 - accuracy: 0.7671 - val_loss: 0.5565 - val_accuracy: 0.8003\n",
      "Epoch 84/100\n",
      "1688/1688 [==============================] - 3s 2ms/step - loss: 0.6091 - accuracy: 0.7750 - val_loss: 0.5374 - val_accuracy: 0.8095\n",
      "Epoch 85/100\n",
      "1688/1688 [==============================] - 3s 2ms/step - loss: 0.5941 - accuracy: 0.7861 - val_loss: 0.5384 - val_accuracy: 0.8062\n",
      "Epoch 86/100\n",
      "1688/1688 [==============================] - 3s 2ms/step - loss: 0.5962 - accuracy: 0.7832 - val_loss: 0.5317 - val_accuracy: 0.8042\n",
      "Epoch 87/100\n",
      "1688/1688 [==============================] - 3s 2ms/step - loss: 0.5882 - accuracy: 0.7876 - val_loss: 0.5400 - val_accuracy: 0.7995\n",
      "Epoch 88/100\n",
      "1688/1688 [==============================] - 3s 2ms/step - loss: 0.5999 - accuracy: 0.7828 - val_loss: 0.5353 - val_accuracy: 0.8057\n",
      "Epoch 89/100\n",
      "1688/1688 [==============================] - 3s 2ms/step - loss: 0.6011 - accuracy: 0.7768 - val_loss: 0.5733 - val_accuracy: 0.7887\n",
      "Epoch 90/100\n",
      "1688/1688 [==============================] - 3s 2ms/step - loss: 0.6225 - accuracy: 0.7642 - val_loss: 0.5535 - val_accuracy: 0.7947\n",
      "Epoch 91/100\n",
      "1688/1688 [==============================] - 3s 2ms/step - loss: 0.5975 - accuracy: 0.7830 - val_loss: 0.5571 - val_accuracy: 0.7892\n",
      "Epoch 92/100\n",
      "1688/1688 [==============================] - 3s 2ms/step - loss: 0.6005 - accuracy: 0.7808 - val_loss: 0.5811 - val_accuracy: 0.7815\n",
      "Epoch 93/100\n",
      "1688/1688 [==============================] - 3s 2ms/step - loss: 0.6140 - accuracy: 0.7744 - val_loss: 0.5432 - val_accuracy: 0.8020\n",
      "Epoch 94/100\n",
      "1688/1688 [==============================] - 3s 2ms/step - loss: 0.5920 - accuracy: 0.7852 - val_loss: 0.5431 - val_accuracy: 0.8093\n",
      "Epoch 95/100\n",
      "1688/1688 [==============================] - 3s 2ms/step - loss: 0.5838 - accuracy: 0.7950 - val_loss: 0.5295 - val_accuracy: 0.8117\n",
      "Epoch 96/100\n",
      "1688/1688 [==============================] - 3s 2ms/step - loss: 0.5774 - accuracy: 0.7922 - val_loss: 0.5277 - val_accuracy: 0.8108\n",
      "Epoch 97/100\n",
      "1688/1688 [==============================] - 3s 2ms/step - loss: 0.5725 - accuracy: 0.7958 - val_loss: 0.5155 - val_accuracy: 0.8165\n",
      "Epoch 98/100\n",
      "1688/1688 [==============================] - 3s 2ms/step - loss: 0.5651 - accuracy: 0.8000 - val_loss: 0.5208 - val_accuracy: 0.8127\n",
      "Epoch 99/100\n",
      "1688/1688 [==============================] - 3s 2ms/step - loss: 0.5692 - accuracy: 0.7951 - val_loss: 0.5301 - val_accuracy: 0.7942\n",
      "Epoch 100/100\n",
      "1688/1688 [==============================] - 3s 2ms/step - loss: 0.5747 - accuracy: 0.7885 - val_loss: 0.5225 - val_accuracy: 0.8108\n",
      "Time for training:   330.9580s\n"
     ]
    }
   ],
   "source": [
    "#10 % of the training data will be used to validate the training\n",
    "start_time = time.time()\n",
    "\n",
    "validation_portion = 0.1\n",
    "batch_size = 32\n",
    "num_epochs = 100\n",
    "\n",
    "tensorboard_callback = keras.callbacks.TensorBoard(\n",
    "    log_dir=\"logs/best_model\", histogram_freq=1)\n",
    "\n",
    "history = best_model.fit(x=x_train, y=train_y, epochs=num_epochs, batch_size=batch_size, \\\n",
    "                            validation_split=validation_portion, shuffle=True,\n",
    "                            callbacks=[tensorboard_callback], verbose=1)\n",
    "\n",
    "end_time = time.time()\n",
    "print(\"Time for training: {:10.4f}s\".format(end_time - start_time))"
   ]
  },
  {
   "cell_type": "code",
   "execution_count": 33,
   "metadata": {},
   "outputs": [
    {
     "data": {
      "image/png": "[encoded data removed]",
      "text/plain": [
       "<Figure size 640x480 with 1 Axes>"
      ]
     },
     "metadata": {},
     "output_type": "display_data"
    }
   ],
   "source": [
    "plt.plot(history.history['loss'])\n",
    "plt.plot(history.history['val_loss'])\n",
    "plt.title('Lr = 0.001, FF_Dropout: Inp = 0.25')\n",
    "plt.ylabel('Cost')\n",
    "plt.xlabel('Epoch')\n",
    "plt.legend(['Train', 'Validation'], loc='upper right')\n",
    "plt.show()"
   ]
  },
  {
   "cell_type": "code",
   "execution_count": 35,
   "metadata": {},
   "outputs": [
    {
     "data": {
      "image/png": "[encoded data removed]",
      "text/plain": [
       "<Figure size 640x480 with 1 Axes>"
      ]
     },
     "metadata": {},
     "output_type": "display_data"
    }
   ],
   "source": [
    "plt.plot(history.history['accuracy'])\n",
    "plt.plot(history.history['val_accuracy'])\n",
    "plt.title('Lr = 0.01, FF_Dropout: Inp = 0.25 \\n Accuracy = 0.81')\n",
    "plt.ylabel('Accuracy')\n",
    "plt.xlabel('Epoch')\n",
    "plt.legend(['Train', 'Validation'], loc='lower right')\n",
    "plt.show()"
   ]
  },
  {
   "cell_type": "code",
   "execution_count": 36,
   "metadata": {},
   "outputs": [
    {
     "name": "stdout",
     "output_type": "stream",
     "text": [
      "313/313 [==============================] - 0s 755us/step - loss: 0.5321 - accuracy: 0.8087\n",
      "Loss = 0.5320552587509155\n",
      "Test Accuracy = 0.8087000250816345\n"
     ]
    }
   ],
   "source": [
    "# Evaluamos el modelo\n",
    "evaluations = best_model.evaluate(x=test_x, y=test_y)\n",
    "print (\"Loss = \" + str(evaluations[0]))\n",
    "print (\"Test Accuracy = \" + str(evaluations[1]))"
   ]
  }
 ],
 "metadata": {
  "colab": {
   "collapsed_sections": [],
   "name": "hyperparameter_tuning_with_hparams.ipynb",
   "toc_visible": true
  },
  "kernelspec": {
   "display_name": "Python 3",
   "language": "python",
   "name": "python3"
  },
  "language_info": {
   "codemirror_mode": {
    "name": "ipython",
    "version": 3
   },
   "file_extension": ".py",
   "mimetype": "text/x-python",
   "name": "python",
   "nbconvert_exporter": "python",
   "pygments_lexer": "ipython3",
   "version": "3.10.6"
  }
 },
 "nbformat": 4,
 "nbformat_minor": 1
}
