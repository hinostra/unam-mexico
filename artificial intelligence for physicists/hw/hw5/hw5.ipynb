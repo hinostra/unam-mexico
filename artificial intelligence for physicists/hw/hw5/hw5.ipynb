{
 "cells": [
  {
   "attachments": {},
   "cell_type": "markdown",
   "metadata": {
    "id": "TB0wBWfcVqHz"
   },
   "source": [
    "# Tarea 5: Ajuste de hiperpaŕametros utilizando Tensorflow y Tensorboard"
   ]
  },
  {
   "cell_type": "markdown",
   "metadata": {
    "id": "elH58gbhWAmn"
   },
   "source": [
    "<font size=4>Como hemos comentado en clase, las redes neuronales actualizan los parámetros necesarios, según cada estilo de arquitectura de red especificada, para atacar un problema particular y poder realizar inferencias relacionadas con dicho problema. Ya en el curso hemos visto, y seguiremos viendo, arquitecturas diversas para atacar un gran número de problemas reales. Pero tenemos que tratar otro asunto..."
   ]
  },
  {
   "cell_type": "markdown",
   "metadata": {},
   "source": [
    "<font size=4>Un problema abierto en Machine Learning es la selección de hiperpaŕametros. Existen diversas técnicas para atacar el problema. Vas a desarrollar un código, para aplicar un **Grid Search** sobre ciertos conjuntos de hiperparámetros, para determinar el mejor algoritmo que resuelva el problema de clasificación para un nuevo dataset que vas a trabajar: Fashion MNIST "
   ]
  },
  {
   "cell_type": "markdown",
   "metadata": {},
   "source": [
    "![](https://3qeqpr26caki16dnhd19sv6by6v-wpengine.netdna-ssl.com/wp-content/uploads/2019/02/Plot-of-a-Subset-of-Images-from-the-Fashion-MNIST-Dataset-1024x768.png)"
   ]
  },
  {
   "cell_type": "markdown",
   "metadata": {},
   "source": [
    "<font size=4>Te pedimos, por favor, que tengas a la mano tus notebooks 8, 9 y 10, para resolver la tarea. Te haremos señalizaciones puntuales de dónde consultar cada pregunta. Habrá otras cosas que tendrás que desarrollar por tu cuenta, pero el esfuerzo valdrá la pena. Queremos que este código te permita trabajar tu proyecto final con mucha soltura y con varios experimentos a la vez."
   ]
  },
  {
   "cell_type": "code",
   "execution_count": 1,
   "metadata": {
    "id": "8p3Tbx8cWEFA"
   },
   "outputs": [],
   "source": [
    "# Load the TensorBoard notebook extension\n",
    "%load_ext tensorboard"
   ]
  },
  {
   "cell_type": "code",
   "execution_count": 2,
   "metadata": {
    "id": "lEWCCQYkWIdA"
   },
   "outputs": [],
   "source": [
    "# Clear any logs from previous runs\n",
    "!rm -rf ./logs/ "
   ]
  },
  {
   "cell_type": "markdown",
   "metadata": {},
   "source": [
    "<font size=4>Importamos las librerías básicas que necesitamos para esta tarea. "
   ]
  },
  {
   "cell_type": "code",
   "execution_count": 3,
   "metadata": {
    "id": "mVtYvbbIWRkV"
   },
   "outputs": [
    {
     "name": "stderr",
     "output_type": "stream",
     "text": [
      "2023-04-23 15:56:43.490802: I tensorflow/core/platform/cpu_feature_guard.cc:193] This TensorFlow binary is optimized with oneAPI Deep Neural Network Library (oneDNN) to use the following CPU instructions in performance-critical operations:  AVX2 AVX512F AVX512_VNNI FMA\n",
      "To enable them in other operations, rebuild TensorFlow with the appropriate compiler flags.\n",
      "2023-04-23 15:56:43.654657: I tensorflow/core/util/port.cc:104] oneDNN custom operations are on. You may see slightly different numerical results due to floating-point round-off errors from different computation orders. To turn them off, set the environment variable `TF_ENABLE_ONEDNN_OPTS=0`.\n",
      "2023-04-23 15:56:43.657288: W tensorflow/compiler/xla/stream_executor/platform/default/dso_loader.cc:64] Could not load dynamic library 'libcudart.so.11.0'; dlerror: libcudart.so.11.0: cannot open shared object file: No such file or directory\n",
      "2023-04-23 15:56:43.657299: I tensorflow/compiler/xla/stream_executor/cuda/cudart_stub.cc:29] Ignore above cudart dlerror if you do not have a GPU set up on your machine.\n",
      "2023-04-23 15:56:44.259760: W tensorflow/compiler/xla/stream_executor/platform/default/dso_loader.cc:64] Could not load dynamic library 'libnvinfer.so.7'; dlerror: libnvinfer.so.7: cannot open shared object file: No such file or directory\n",
      "2023-04-23 15:56:44.259812: W tensorflow/compiler/xla/stream_executor/platform/default/dso_loader.cc:64] Could not load dynamic library 'libnvinfer_plugin.so.7'; dlerror: libnvinfer_plugin.so.7: cannot open shared object file: No such file or directory\n",
      "2023-04-23 15:56:44.259817: W tensorflow/compiler/tf2tensorrt/utils/py_utils.cc:38] TF-TRT Warning: Cannot dlopen some TensorRT libraries. If you would like to use Nvidia GPU with TensorRT, please make sure the missing libraries mentioned above are installed properly.\n"
     ]
    }
   ],
   "source": [
    "import tensorflow as tf\n",
    "from tensorflow import keras\n",
    "from tensorflow.keras import layers\n",
    "from tensorflow.keras.layers import Input, Dense, Activation, Flatten\n",
    "from tensorflow.keras.layers import Dropout\n",
    "from tensorflow.keras.models import Model\n",
    "from tensorflow.keras.preprocessing import image\n",
    "from tensorflow.keras.applications.imagenet_utils import preprocess_input\n",
    "import pydot\n",
    "from IPython.display import SVG\n",
    "from tensorflow.keras.utils import plot_model\n",
    "from tensorflow.keras.optimizers import SGD\n",
    "from datetime import datetime\n",
    "\n",
    "import matplotlib.pyplot as plt\n",
    "from matplotlib.pyplot import imshow\n",
    "\n",
    "import numpy as np\n",
    "import pickle\n",
    "import time\n",
    "\n",
    "from tensorboard.plugins.hparams import api as hp\n",
    "np.random.seed(1)\n",
    "\n",
    "%matplotlib inline"
   ]
  },
  {
   "cell_type": "code",
   "execution_count": 4,
   "metadata": {
    "id": "z8b82G7YksOS"
   },
   "outputs": [],
   "source": [
    "fashion_mnist = tf.keras.datasets.fashion_mnist"
   ]
  },
  {
   "cell_type": "markdown",
   "metadata": {},
   "source": [
    "<font size=4 color=red>1. Carga los datos de FashionMNIST y separa en los respectivos conjuntos de entrenamiento y test. (HINT: Revisar la parte de preprocesamiento del notebook 10)."
   ]
  },
  {
   "cell_type": "code",
   "execution_count": 5,
   "metadata": {},
   "outputs": [],
   "source": [
    "(x_train, y_train),(x_test, y_test) = fashion_mnist.load_data()"
   ]
  },
  {
   "cell_type": "markdown",
   "metadata": {},
   "source": [
    "<font size=4 color=red>2. Obtener la dimensión de cada conjunto de la celda anterior. (HINT:Revisar la clase 10, en la misma sección de procesamiento del dataset)"
   ]
  },
  {
   "cell_type": "code",
   "execution_count": 6,
   "metadata": {},
   "outputs": [
    {
     "name": "stdout",
     "output_type": "stream",
     "text": [
      "The shape of x_train is (60000, 28, 28)\n",
      "The shape of y_train is (60000,)\n",
      "\n",
      "The shape of x_test is (10000, 28, 28)\n",
      "The shape of y_test is (10000,)\n"
     ]
    }
   ],
   "source": [
    "print('The shape of x_train is', x_train.shape)\n",
    "print('The shape of y_train is', y_train.shape)\n",
    "\n",
    "print('\\nThe shape of x_test is', x_test.shape)\n",
    "print('The shape of y_test is', y_test.shape)"
   ]
  },
  {
   "cell_type": "markdown",
   "metadata": {},
   "source": [
    "<font size=4 color=red> 3. [Ingresa a este link](https://www.kaggle.com/datasets/zalando-research/fashionmnist) para encontrar la información de lo que significa cada una de las etiquetas. Completa el diccionario que se presenta en la siguiente celda."
   ]
  },
  {
   "cell_type": "code",
   "execution_count": 7,
   "metadata": {},
   "outputs": [],
   "source": [
    "dic = {0: 'T-shirt/top', 1: 'Trouser', 2: 'Pullover', 3: 'Dress', 4: 'Coat', \n",
    "       5: 'Sandal', 6: 'Shirt', 7: 'Sneaker', 8: 'Bag', 9: 'Ankle boot'}"
   ]
  },
  {
   "cell_type": "code",
   "execution_count": 8,
   "metadata": {},
   "outputs": [
    {
     "name": "stdout",
     "output_type": "stream",
     "text": [
      "Ankle boot is the object corresponding to the sample 0\n",
      "\n",
      " This is its image\n"
     ]
    },
    {
     "data": {
      "image/png": "[encoded data removed]",
      "text/plain": [
       "<Figure size 640x480 with 1 Axes>"
      ]
     },
     "metadata": {},
     "output_type": "display_data"
    }
   ],
   "source": [
    "index = 0\n",
    "\n",
    "plt.imshow(x_train[index], cmap='gray')\n",
    "\n",
    "print(dic[y_train[index]], \"is the object corresponding to the sample\", index)\n",
    "print(\"\\n This is its image\")"
   ]
  },
  {
   "cell_type": "markdown",
   "metadata": {},
   "source": [
    "<font size=4 color=red>4. Analizar si los pixeles de cada imagen están normalizados o no. De no estarlo, hacer la normalización correspondiente. (HINT: Revisar la sección \"Analyzing the data extracted from CIFAR-10\" del notebook 10)"
   ]
  },
  {
   "cell_type": "code",
   "execution_count": 9,
   "metadata": {},
   "outputs": [
    {
     "name": "stdout",
     "output_type": "stream",
     "text": [
      "The features of a training sample goes from 0 to 255\n",
      "It is not normalized.\n"
     ]
    }
   ],
   "source": [
    "print(\"The features of a training sample goes from\", np.min(x_train[index]), 'to', np.max(x_train[index]))\n",
    "if np.max(x_train[index]) > 1:\n",
    "    print('It is not normalized.')"
   ]
  },
  {
   "cell_type": "code",
   "execution_count": 10,
   "metadata": {},
   "outputs": [],
   "source": [
    "# debemos normalizar los datos de tal forma que \n",
    "# los elementos del arreglo de la entrada vayan de 0 a 1\n",
    "train_x = x_train/255\n",
    "test_x = x_test/255"
   ]
  },
  {
   "cell_type": "markdown",
   "metadata": {},
   "source": [
    "<font size=4 color=red>5. Realizar la codificación One-Hot para las etiquetas de este problema. (HINT: Revisar la sección \"One Hot Encoding\" de los notebooks 8, 9 o 10)"
   ]
  },
  {
   "cell_type": "code",
   "execution_count": 11,
   "metadata": {},
   "outputs": [],
   "source": [
    "# podemos seguir el ejemplo de los notebooks mencionados\n",
    "# o usar la funcion OneHotEncoder de scikit-learn\n",
    "\n",
    "from sklearn.preprocessing import OneHotEncoder\n",
    "\n",
    "enc = OneHotEncoder()\n",
    "train_y = enc.fit_transform(y_train.reshape(-1, 1)).toarray()\n",
    "test_y  = enc.transform(y_test.reshape(-1, 1)).toarray()"
   ]
  },
  {
   "cell_type": "code",
   "execution_count": 12,
   "metadata": {},
   "outputs": [
    {
     "data": {
      "text/plain": [
       "array([9, 0, 0, 3, 0], dtype=uint8)"
      ]
     },
     "execution_count": 12,
     "metadata": {},
     "output_type": "execute_result"
    }
   ],
   "source": [
    "# inicialmente\n",
    "y_train[0:5]"
   ]
  },
  {
   "cell_type": "code",
   "execution_count": 13,
   "metadata": {},
   "outputs": [
    {
     "data": {
      "text/plain": [
       "array([[0., 0., 0., 0., 0., 0., 0., 0., 0., 1.],\n",
       "       [1., 0., 0., 0., 0., 0., 0., 0., 0., 0.],\n",
       "       [1., 0., 0., 0., 0., 0., 0., 0., 0., 0.],\n",
       "       [0., 0., 0., 1., 0., 0., 0., 0., 0., 0.],\n",
       "       [1., 0., 0., 0., 0., 0., 0., 0., 0., 0.]])"
      ]
     },
     "execution_count": 13,
     "metadata": {},
     "output_type": "execute_result"
    }
   ],
   "source": [
    "# one-hot encoding\n",
    "train_y[0:5]"
   ]
  },
  {
   "cell_type": "markdown",
   "metadata": {},
   "source": [
    "<font size=5 color=\"blue\">\n",
    "\n",
    "Building the Learning System\n",
    "\n"
   ]
  },
  {
   "cell_type": "markdown",
   "metadata": {},
   "source": [
    "<font size=5 color='blue'>\n",
    "\n",
    "Definition of the neural network architecture"
   ]
  },
  {
   "cell_type": "markdown",
   "metadata": {},
   "source": [
    "<font size=4>En esta sección vamos a utilizar la arquitectura expuesta en la clase 9, pero vamos a realizar algunas modificaciones para realizar más variaciones al modelo base, así como a otro conjunto de hiperparámetros. A continuación, se expone la manera de realizar estos cambios. No tienes que modificar nada aún."
   ]
  },
  {
   "cell_type": "markdown",
   "metadata": {},
   "source": [
    "<font size=4>Primero, se deben inicializar los hiperparámetros, así como sus posibles valores que pueden tomar. Además, vamos a guardar en el Tensorboar el accuracy, de modo que podamos asociar a cada conjunto de hiperparámetros un valor de accuracy, para así comparar y decidir cuál modelo nos puede proporcionar la mejor inferencia. "
   ]
  },
  {
   "cell_type": "code",
   "execution_count": 14,
   "metadata": {
    "id": "5Euw0agpWb4V"
   },
   "outputs": [
    {
     "name": "stderr",
     "output_type": "stream",
     "text": [
      "2023-04-23 15:56:53.111899: W tensorflow/compiler/xla/stream_executor/platform/default/dso_loader.cc:64] Could not load dynamic library 'libcuda.so.1'; dlerror: libcuda.so.1: cannot open shared object file: No such file or directory\n",
      "2023-04-23 15:56:53.111916: W tensorflow/compiler/xla/stream_executor/cuda/cuda_driver.cc:265] failed call to cuInit: UNKNOWN ERROR (303)\n",
      "2023-04-23 15:56:53.111928: I tensorflow/compiler/xla/stream_executor/cuda/cuda_diagnostics.cc:156] kernel driver does not appear to be running on this host (hinostra): /proc/driver/nvidia/version does not exist\n",
      "2023-04-23 15:56:53.112108: I tensorflow/core/platform/cpu_feature_guard.cc:193] This TensorFlow binary is optimized with oneAPI Deep Neural Network Library (oneDNN) to use the following CPU instructions in performance-critical operations:  AVX2 AVX512F AVX512_VNNI FMA\n",
      "To enable them in other operations, rebuild TensorFlow with the appropriate compiler flags.\n"
     ]
    }
   ],
   "source": [
    "HP_NUM_UNITS = hp.HParam('num_units', hp.Discrete([16, 32]))\n",
    "HP_DROPOUT = hp.HParam('dropout', hp.Discrete([0.1, 0.4]))\n",
    "HP_OPTIMIZER = hp.HParam('optimizer', hp.Discrete(['adam', 'sgd']))\n",
    "HP_LEARNINGRATE= hp.HParam('learning_rate', hp.Discrete([0.1,0.01,0.001]))\n",
    "\n",
    "METRIC_ACCURACY = 'accuracy'\n",
    "\n",
    "with tf.summary.create_file_writer('logs/hparam_tuning').as_default():\n",
    "  hp.hparams_config(\n",
    "    hparams=[HP_NUM_UNITS, HP_DROPOUT, HP_OPTIMIZER, HP_LEARNINGRATE],\n",
    "    metrics=[hp.Metric(METRIC_ACCURACY, display_name='Accuracy')],\n",
    "  )"
   ]
  },
  {
   "cell_type": "markdown",
   "metadata": {
    "id": "va9XMh-dW4_f"
   },
   "source": [
    "<font size=4>Ahora sí, te va a tocar modificar ciertas partes de la arquitectura del código, para realizar la variación de parámetros que se propone en la celda anterior. Te vamos a ayudar con algunos, pero otros tú los vas a tener que modificar. Sigue con cuidado las instrucciones, y obtendrás el resultado esperado."
   ]
  },
  {
   "cell_type": "markdown",
   "metadata": {},
   "source": [
    "<font size=4 color=red>6. Se te proporciona a continuación la arquitectura de la clase 9. Modifica el código, de tal forma que reciba como parámetros de entrada la probabilidad de aplicar el Dropout, así como el número de neuronas presentes en la segunda capa lineal. Nosotros te ayudamos a cambiar el número de neuronas. Declaramos una variable de entrada llamada **units**, y lo colocamos en donde corresponde. Lo mismo tienes que hacer para la probabilidad del Dropout(es decir,en cada punto donde encuentres p=0, tienes que cambiarlo por una variable de entrada, de modo que podamos barrer otros valores en este punto)"
   ]
  },
  {
   "cell_type": "code",
   "execution_count": 15,
   "metadata": {},
   "outputs": [],
   "source": [
    "def architecture(input_shape, num_classes, units, dropout=True, p_drop=0):\n",
    "    \n",
    "    # Defining the input as a tensor with shape input_shape. \n",
    "    InputLayer = Input(input_shape)\n",
    "    \n",
    "    # Flattening the input tensor of dimensions (32, 32, 3) to a tensor of dimensions (3072)\n",
    "    x = Flatten()(InputLayer)\n",
    "    if dropout == True:\n",
    "        x = Dropout(p_drop)(x)  # yo tengo la ultima version de keras, en esta 'p' se reemplaza por 'rate'\n",
    "    \n",
    "    # Defining the first hidden layer with 50 nodes and sigmoid as activation function\n",
    "    x = Dense(50, kernel_initializer='random_uniform', bias_initializer='zeros', name='hl_1')(x)\n",
    "    x = Activation('sigmoid')(x)\n",
    "    if dropout == True:\n",
    "        x = Dropout(p_drop)(x)\n",
    "\n",
    "    x = Dense(units, kernel_initializer='random_uniform', bias_initializer='zeros', name='hl_2')(x)\n",
    "    x = Activation('sigmoid')(x)\n",
    "    if dropout == True:\n",
    "        x = Dropout(p_drop)(x)\n",
    "    \n",
    "    # For the output layer we use the activation function 'softmax')\n",
    "    x = Dense(num_classes, kernel_initializer='random_uniform', bias_initializer='zeros')(x)\n",
    "    OutputLayer = Activation('softmax', name='output-layer')(x)\n",
    "    \n",
    "    # This creates the Keras model instance, you'll use this instance to train/test the model.\n",
    "    model = Model(inputs = InputLayer, outputs = OutputLayer, name='FashionMNISTModel')\n",
    "\n",
    "    return model"
   ]
  },
  {
   "cell_type": "markdown",
   "metadata": {},
   "source": [
    "<font size=4 color=red>7. Vamos a definir una función llamada train_test_model, en donde vamos a definir todos los pasos importantes para realizar el entrenamiento. La única línea de código que vas a modificar, es la línea 17 de la siguiente celda. Vamos a loggear al Tensorboard el accuracy sobre el conjunto de evaluacion. Aplica el método **evaluate** sobre los conjuntos de prueba. (HINT: Revisa los notebooks 8,9 y 10 para que veas la manera de hacer esto)"
   ]
  },
  {
   "cell_type": "code",
   "execution_count": 16,
   "metadata": {
    "id": "hG-zalNfW5Zl"
   },
   "outputs": [],
   "source": [
    "one_image = (28, 28, 1)\n",
    "num_classes=10\n",
    "\n",
    "\n",
    "def train_test_model(hparams):\n",
    "\n",
    "    model=architecture(input_shape=one_image, num_classes=num_classes, \n",
    "                       p_drop=hparams[HP_DROPOUT], units=hparams[HP_NUM_UNITS])\n",
    "    model.compile(\n",
    "          optimizer=hparams[HP_OPTIMIZER],\n",
    "          loss='categorical_crossentropy',\n",
    "          metrics=['accuracy']\n",
    "      )\n",
    "    model.optimizer.learning_rate=hparams[HP_LEARNINGRATE]\n",
    "    model.fit(x_train, train_y, epochs = 5, batch_size = 32, \\\n",
    "                                validation_split = 0.1, shuffle=True, verbose=0) # Run with 1 epoch to speed things up for demo purposes\n",
    "    _, accuracy = model.evaluate(x = test_x, y = test_y)\n",
    "    return accuracy"
   ]
  },
  {
   "cell_type": "markdown",
   "metadata": {},
   "source": [
    "<font size=4> En la siguiente función, vamos a compactar todo lo que queremos pasarle a nuestro Tensorboard, incluyendo los hiperparámetros y una ruta donde se guardarán todos los resultados. No tienes que modificar nada"
   ]
  },
  {
   "cell_type": "code",
   "execution_count": 17,
   "metadata": {
    "id": "8j-fO6nEXRfW"
   },
   "outputs": [],
   "source": [
    "def training(run_dir, hparams):\n",
    "    with tf.summary.create_file_writer(run_dir).as_default():\n",
    "        hp.hparams(hparams)  # record the values used in this trial\n",
    "        accuracy = train_test_model(hparams)\n",
    "        tf.summary.scalar(METRIC_ACCURACY, accuracy, step=1)"
   ]
  },
  {
   "cell_type": "markdown",
   "metadata": {},
   "source": [
    "<font size=4>Finalmente, en la siguiente celda realizamos los entrenamientos sobre todas las posibilidades de hiperparámetros a probar. Nótese que solo correremos 5 épocas. Queremos encontrar un modelo tal que nos ofrezca la mejor solución al problema de clasificación. Solo ejecuta la siguiente celda."
   ]
  },
  {
   "cell_type": "code",
   "execution_count": 18,
   "metadata": {
    "id": "KbqT5n-AXd0h"
   },
   "outputs": [
    {
     "name": "stdout",
     "output_type": "stream",
     "text": [
      "--- Starting trial: run-0\n",
      "{'num_units': 16, 'dropout': 0.1, 'optimizer': 'adam', 'learning_rate': 0.001}\n",
      "313/313 [==============================] - 0s 669us/step - loss: 0.9113 - accuracy: 0.6193\n",
      "--- Starting trial: run-1\n",
      "{'num_units': 16, 'dropout': 0.1, 'optimizer': 'adam', 'learning_rate': 0.01}\n",
      "313/313 [==============================] - 0s 745us/step - loss: 1.5240 - accuracy: 0.3159\n",
      "--- Starting trial: run-2\n",
      "{'num_units': 16, 'dropout': 0.1, 'optimizer': 'adam', 'learning_rate': 0.1}\n",
      "313/313 [==============================] - 0s 701us/step - loss: 2.1532 - accuracy: 0.1825\n",
      "--- Starting trial: run-3\n",
      "{'num_units': 16, 'dropout': 0.1, 'optimizer': 'sgd', 'learning_rate': 0.001}\n",
      "313/313 [==============================] - 0s 701us/step - loss: 2.3020 - accuracy: 0.1000\n",
      "--- Starting trial: run-4\n",
      "{'num_units': 16, 'dropout': 0.1, 'optimizer': 'sgd', 'learning_rate': 0.01}\n",
      "313/313 [==============================] - 0s 764us/step - loss: 1.7243 - accuracy: 0.1994\n",
      "--- Starting trial: run-5\n",
      "{'num_units': 16, 'dropout': 0.1, 'optimizer': 'sgd', 'learning_rate': 0.1}\n",
      "313/313 [==============================] - 0s 693us/step - loss: 1.2679 - accuracy: 0.5002\n",
      "--- Starting trial: run-6\n",
      "{'num_units': 16, 'dropout': 0.4, 'optimizer': 'adam', 'learning_rate': 0.001}\n",
      "313/313 [==============================] - 0s 720us/step - loss: 0.9897 - accuracy: 0.6151\n",
      "--- Starting trial: run-7\n",
      "{'num_units': 16, 'dropout': 0.4, 'optimizer': 'adam', 'learning_rate': 0.01}\n",
      "313/313 [==============================] - 0s 813us/step - loss: 1.4687 - accuracy: 0.4192\n",
      "--- Starting trial: run-8\n",
      "{'num_units': 16, 'dropout': 0.4, 'optimizer': 'adam', 'learning_rate': 0.1}\n",
      "313/313 [==============================] - 0s 752us/step - loss: 2.3219 - accuracy: 0.1000\n",
      "--- Starting trial: run-9\n",
      "{'num_units': 16, 'dropout': 0.4, 'optimizer': 'sgd', 'learning_rate': 0.001}\n",
      "313/313 [==============================] - 0s 777us/step - loss: 2.3022 - accuracy: 0.1000\n",
      "--- Starting trial: run-10\n",
      "{'num_units': 16, 'dropout': 0.4, 'optimizer': 'sgd', 'learning_rate': 0.01}\n",
      "313/313 [==============================] - 0s 705us/step - loss: 1.6824 - accuracy: 0.3319\n",
      "--- Starting trial: run-11\n",
      "{'num_units': 16, 'dropout': 0.4, 'optimizer': 'sgd', 'learning_rate': 0.1}\n",
      "313/313 [==============================] - 0s 766us/step - loss: 1.5992 - accuracy: 0.3226\n",
      "--- Starting trial: run-12\n",
      "{'num_units': 32, 'dropout': 0.1, 'optimizer': 'adam', 'learning_rate': 0.001}\n",
      "313/313 [==============================] - 0s 694us/step - loss: 0.7582 - accuracy: 0.7173\n",
      "--- Starting trial: run-13\n",
      "{'num_units': 32, 'dropout': 0.1, 'optimizer': 'adam', 'learning_rate': 0.01}\n",
      "313/313 [==============================] - 0s 687us/step - loss: 1.5763 - accuracy: 0.3099\n",
      "--- Starting trial: run-14\n",
      "{'num_units': 32, 'dropout': 0.1, 'optimizer': 'adam', 'learning_rate': 0.1}\n",
      "313/313 [==============================] - 0s 693us/step - loss: 2.3458 - accuracy: 0.1000\n",
      "--- Starting trial: run-15\n",
      "{'num_units': 32, 'dropout': 0.1, 'optimizer': 'sgd', 'learning_rate': 0.001}\n",
      "313/313 [==============================] - 0s 710us/step - loss: 2.3008 - accuracy: 0.1000\n",
      "--- Starting trial: run-16\n",
      "{'num_units': 32, 'dropout': 0.1, 'optimizer': 'sgd', 'learning_rate': 0.01}\n",
      "313/313 [==============================] - 0s 794us/step - loss: 1.5098 - accuracy: 0.3806\n",
      "--- Starting trial: run-17\n",
      "{'num_units': 32, 'dropout': 0.1, 'optimizer': 'sgd', 'learning_rate': 0.1}\n",
      "313/313 [==============================] - 0s 709us/step - loss: 1.6368 - accuracy: 0.3498\n",
      "--- Starting trial: run-18\n",
      "{'num_units': 32, 'dropout': 0.4, 'optimizer': 'adam', 'learning_rate': 0.001}\n",
      "313/313 [==============================] - 0s 743us/step - loss: 0.8868 - accuracy: 0.6447\n",
      "--- Starting trial: run-19\n",
      "{'num_units': 32, 'dropout': 0.4, 'optimizer': 'adam', 'learning_rate': 0.01}\n",
      "313/313 [==============================] - 1s 724us/step - loss: 1.3752 - accuracy: 0.3988\n",
      "--- Starting trial: run-20\n",
      "{'num_units': 32, 'dropout': 0.4, 'optimizer': 'adam', 'learning_rate': 0.1}\n",
      "313/313 [==============================] - 0s 704us/step - loss: 2.1367 - accuracy: 0.1796\n",
      "--- Starting trial: run-21\n",
      "{'num_units': 32, 'dropout': 0.4, 'optimizer': 'sgd', 'learning_rate': 0.001}\n",
      "313/313 [==============================] - 0s 750us/step - loss: 2.3015 - accuracy: 0.1000\n",
      "--- Starting trial: run-22\n",
      "{'num_units': 32, 'dropout': 0.4, 'optimizer': 'sgd', 'learning_rate': 0.01}\n",
      "313/313 [==============================] - 0s 689us/step - loss: 1.6548 - accuracy: 0.3015\n",
      "--- Starting trial: run-23\n",
      "{'num_units': 32, 'dropout': 0.4, 'optimizer': 'sgd', 'learning_rate': 0.1}\n",
      "313/313 [==============================] - 0s 688us/step - loss: 1.5960 - accuracy: 0.3094\n"
     ]
    }
   ],
   "source": [
    "from collections import OrderedDict, namedtuple\n",
    "from itertools import product\n",
    "session_num = 0\n",
    "\n",
    "class RunBuilder():\n",
    "    @staticmethod\n",
    "    def get_runs(params):\n",
    "        Run=namedtuple('Run', params.keys())\n",
    "\n",
    "        runs=[]\n",
    "\n",
    "        for v in product(*params.values()):\n",
    "            runs.append(Run(*v))\n",
    "\n",
    "        return runs\n",
    "    \n",
    "params=OrderedDict(\n",
    "        num_units=[num_units for num_units in HP_NUM_UNITS.domain.values],\n",
    "        p_drop=[dropout_rate for dropout_rate in (HP_DROPOUT.domain.values)],\n",
    "        optim=[optimizer for optimizer in HP_OPTIMIZER.domain.values],\n",
    "        lr=[lr for lr in HP_LEARNINGRATE.domain.values],\n",
    "    )\n",
    "\n",
    "for run in RunBuilder().get_runs(params):\n",
    "    hparams = {\n",
    "          HP_NUM_UNITS: run.num_units,\n",
    "          HP_DROPOUT: run.p_drop,\n",
    "          HP_OPTIMIZER: run.optim,\n",
    "          HP_LEARNINGRATE: run.lr\n",
    "      }\n",
    "    run_name = \"run-%d\" % session_num\n",
    "    print('--- Starting trial: %s' % run_name)\n",
    "    print({h.name: hparams[h] for h in hparams})\n",
    "    training('logs/hparam_tuning/' + run_name, hparams)\n",
    "    session_num += 1\n"
   ]
  },
  {
   "cell_type": "markdown",
   "metadata": {
    "id": "qSyjWQ3mPKT9"
   },
   "source": [
    "## Visualización de los resultados en Tensorboard"
   ]
  },
  {
   "cell_type": "markdown",
   "metadata": {
    "id": "5VBvplwyP8Vy"
   },
   "source": [
    "The HParams dashboard can now be opened. Start TensorBoard and click on \"HParams\" at the top."
   ]
  },
  {
   "cell_type": "code",
   "execution_count": 19,
   "metadata": {
    "id": "Xf4KM-U2bbP_"
   },
   "outputs": [
    {
     "data": {
      "text/html": [
       "\n",
       "      <iframe id=\"tensorboard-frame-282808c63b3cd559\" width=\"100%\" height=\"800\" frameborder=\"0\">\n",
       "      </iframe>\n",
       "      <script>\n",
       "        (function() {\n",
       "          const frame = document.getElementById(\"tensorboard-frame-282808c63b3cd559\");\n",
       "          const url = new URL(\"http://localhost\");\n",
       "          const port = 6006;\n",
       "          if (port) {\n",
       "            url.port = port;\n",
       "          }\n",
       "          frame.src = url;\n",
       "        })();\n",
       "      </script>\n",
       "    "
      ],
      "text/plain": [
       "<IPython.core.display.HTML object>"
      ]
     },
     "metadata": {},
     "output_type": "display_data"
    }
   ],
   "source": [
    "%tensorboard --logdir logs/hparam_tuning"
   ]
  },
  {
   "cell_type": "markdown",
   "metadata": {},
   "source": [
    "<font size=4>En las pestañas del lado superior izquierdo, hay una llamada HPARAMS. Ingresa en esa pestaña. También en las pestañas de la parte superior de esta pestaña, encontrarás una opción llamada Parallel Coordinates View. En esa opción podrás ver de manera interactiva las diferentes opciones de variación, y su respectivo valor de precisión en Inferencia."
   ]
  },
  {
   "cell_type": "markdown",
   "metadata": {},
   "source": [
    "<font size=4 color=red> 8. En el menú interactivo del lado izquierdo, hasta abajo viene una opción que dice: \"Download data as CSV\". Descarga estos datos y anexalos al momento de subir tu notebook al Classroom. Nota que a pesar de que se tiene una semilla para reproducibilidad, no se obtienen los mismo resultados una vez se ejecuten nuevamente los resultados. Por ello, si alguien te pasa su CSV, nos daremos inmediatamente cuenta, porque no es posible que salgan dos juegos de datos iguales :)"
   ]
  },
  {
   "cell_type": "markdown",
   "metadata": {},
   "source": [
    "<font size=4 color=red>9. De los tres mejores modelos que obtuviste en esta prueba básica, realiza un entrenamiento completo de 30 épocas con alguno de ellos, como lo realizamos en la clase. A continuación te enumeramos los pasos a seguir para este punto, pero recuerda checar con cuidado los parámetros que debes modificar en cada paso, de modo que pongas los hiperparámetros óptimos que te permitieron obtener el mejor resultado de accuracy en el conjunto test. "
   ]
  },
  {
   "cell_type": "code",
   "execution_count": 20,
   "metadata": {},
   "outputs": [
    {
     "name": "stdout",
     "output_type": "stream",
     "text": [
      "Los tres mejores modelos\n"
     ]
    },
    {
     "data": {
      "text/html": [
       "<div>\n",
       "<style scoped>\n",
       "    .dataframe tbody tr th:only-of-type {\n",
       "        vertical-align: middle;\n",
       "    }\n",
       "\n",
       "    .dataframe tbody tr th {\n",
       "        vertical-align: top;\n",
       "    }\n",
       "\n",
       "    .dataframe thead th {\n",
       "        text-align: right;\n",
       "    }\n",
       "</style>\n",
       "<table border=\"1\" class=\"dataframe\">\n",
       "  <thead>\n",
       "    <tr style=\"text-align: right;\">\n",
       "      <th></th>\n",
       "      <th>num_units</th>\n",
       "      <th>dropout</th>\n",
       "      <th>optimizer</th>\n",
       "      <th>learning_rate</th>\n",
       "      <th>Accuracy</th>\n",
       "    </tr>\n",
       "  </thead>\n",
       "  <tbody>\n",
       "    <tr>\n",
       "      <th>22</th>\n",
       "      <td>32.0</td>\n",
       "      <td>0.1</td>\n",
       "      <td>adam</td>\n",
       "      <td>0.001</td>\n",
       "      <td>0.7173</td>\n",
       "    </tr>\n",
       "    <tr>\n",
       "      <th>13</th>\n",
       "      <td>32.0</td>\n",
       "      <td>0.4</td>\n",
       "      <td>adam</td>\n",
       "      <td>0.001</td>\n",
       "      <td>0.6447</td>\n",
       "    </tr>\n",
       "    <tr>\n",
       "      <th>1</th>\n",
       "      <td>16.0</td>\n",
       "      <td>0.1</td>\n",
       "      <td>adam</td>\n",
       "      <td>0.001</td>\n",
       "      <td>0.6193</td>\n",
       "    </tr>\n",
       "  </tbody>\n",
       "</table>\n",
       "</div>"
      ],
      "text/plain": [
       "    num_units  dropout optimizer  learning_rate  Accuracy\n",
       "22       32.0      0.1      adam          0.001    0.7173\n",
       "13       32.0      0.4      adam          0.001    0.6447\n",
       "1        16.0      0.1      adam          0.001    0.6193"
      ]
     },
     "execution_count": 20,
     "metadata": {},
     "output_type": "execute_result"
    }
   ],
   "source": [
    "# no correr esta celda, es solo para que yo (Alejandra) pueda visualizar los datos\n",
    "from pandas import read_csv\n",
    "df_hpars = read_csv('./hparams_table_hw5.csv')\n",
    "print('Los tres mejores modelos')\n",
    "df_hpars.nlargest(3, ['Accuracy'])"
   ]
  },
  {
   "cell_type": "code",
   "execution_count": 21,
   "metadata": {},
   "outputs": [],
   "source": [
    "top1_hpars = {'n_units': 32, 'p_drop': 0.1, 'optimizer': 'adam', 'learning_rate': 0.001}\n",
    "top2_hpars = {'n_units': 16, 'p_drop': 0.1, 'optimizer': 'adam', 'learning_rate': 0.001}\n",
    "top3_hpars = {'n_units': 32, 'p_drop': 0.4, 'optimizer': 'adam', 'learning_rate': 0.001}"
   ]
  },
  {
   "cell_type": "code",
   "execution_count": 22,
   "metadata": {},
   "outputs": [],
   "source": [
    "# elegimos el mejor modelo con hiperparametros top1_hpars\n",
    "\n",
    "n_units   = top1_hpars['n_units']\n",
    "p_drop    = top1_hpars['p_drop']\n",
    "\n",
    "def architecture(input_shape, num_classes, dropout=True):\n",
    "    \n",
    "    # Defining the input as a tensor with shape input_shape. \n",
    "    InputLayer = Input(input_shape)\n",
    "    \n",
    "    # Flattening the input tensor of dimensions (32, 32, 3) to a tensor of dimensions (3072)\n",
    "    x = Flatten()(InputLayer)\n",
    "    if dropout == True:\n",
    "        x = Dropout(p_drop)(x)\n",
    "    \n",
    "    # Defining the first hidden layer with 50 nodes and sigmoid as activation function\n",
    "    x = Dense(50, kernel_initializer='random_uniform', bias_initializer='zeros', name='hl_1')(x)\n",
    "    x = Activation('sigmoid')(x)\n",
    "    if dropout == True:\n",
    "        x = Dropout(p_drop)(x)\n",
    "\n",
    "    # Defining the second hidden layer with 'n_units' nodes and sigmoid as activation function\n",
    "    x = Dense(n_units, kernel_initializer='random_uniform', bias_initializer='zeros', name='hl_2')(x)\n",
    "    x = Activation('sigmoid')(x)\n",
    "    if dropout == True:\n",
    "        x = Dropout(p_drop)(x)\n",
    "    \n",
    "    # For the output layer we use the activation function 'softmax')\n",
    "    x = Dense(num_classes, kernel_initializer='random_uniform', bias_initializer='zeros')(x)\n",
    "    OutputLayer = Activation('softmax', name='output-layer')(x)\n",
    "    \n",
    "    # This creates the Keras model instance, you'll use this instance to train/test the model.\n",
    "    model = Model(inputs = InputLayer, outputs = OutputLayer, name='FashionMNISTModel')\n",
    "\n",
    "    return model"
   ]
  },
  {
   "cell_type": "markdown",
   "metadata": {},
   "source": [
    "<font size=4 color=red>En la celda anterior, recuerda poner la probabilidad de Dropout y el número de neuronas de salida en la segunda capa lineal que mejor funcionaron para ti"
   ]
  },
  {
   "cell_type": "code",
   "execution_count": 23,
   "metadata": {},
   "outputs": [],
   "source": [
    "best_model = architecture((28,28,1), 10)"
   ]
  },
  {
   "cell_type": "code",
   "execution_count": 24,
   "metadata": {},
   "outputs": [
    {
     "data": {
      "image/png": "[encoded data removed]",
      "text/plain": [
       "<IPython.core.display.Image object>"
      ]
     },
     "execution_count": 24,
     "metadata": {},
     "output_type": "execute_result"
    }
   ],
   "source": [
    "plot_model(best_model, to_file='best_model.png', show_shapes=True, rankdir='TB', show_layer_names=True)"
   ]
  },
  {
   "cell_type": "code",
   "execution_count": 25,
   "metadata": {},
   "outputs": [
    {
     "name": "stdout",
     "output_type": "stream",
     "text": [
      "Model: \"FashionMNISTModel\"\n",
      "_________________________________________________________________\n",
      " Layer (type)                Output Shape              Param #   \n",
      "=================================================================\n",
      " input_25 (InputLayer)       [(None, 28, 28, 1)]       0         \n",
      "                                                                 \n",
      " flatten_24 (Flatten)        (None, 784)               0         \n",
      "                                                                 \n",
      " dropout_72 (Dropout)        (None, 784)               0         \n",
      "                                                                 \n",
      " hl_1 (Dense)                (None, 50)                39250     \n",
      "                                                                 \n",
      " activation_48 (Activation)  (None, 50)                0         \n",
      "                                                                 \n",
      " dropout_73 (Dropout)        (None, 50)                0         \n",
      "                                                                 \n",
      " hl_2 (Dense)                (None, 32)                1632      \n",
      "                                                                 \n",
      " activation_49 (Activation)  (None, 32)                0         \n",
      "                                                                 \n",
      " dropout_74 (Dropout)        (None, 32)                0         \n",
      "                                                                 \n",
      " dense_24 (Dense)            (None, 10)                330       \n",
      "                                                                 \n",
      " output-layer (Activation)   (None, 10)                0         \n",
      "                                                                 \n",
      "=================================================================\n",
      "Total params: 41,212\n",
      "Trainable params: 41,212\n",
      "Non-trainable params: 0\n",
      "_________________________________________________________________\n"
     ]
    }
   ],
   "source": [
    "best_model.summary()"
   ]
  },
  {
   "cell_type": "code",
   "execution_count": 26,
   "metadata": {},
   "outputs": [],
   "source": [
    "from keras.optimizers import Adam\n",
    "\n",
    "learning_rate = top1_hpars['learning_rate']\n",
    "optimizer     = Adam(learning_rate=learning_rate)"
   ]
  },
  {
   "cell_type": "markdown",
   "metadata": {},
   "source": [
    "<font size=4 color=red>Ahora, también cambia en la anterior celda el learning rate y el optimizador que mejor funcionaron para ti"
   ]
  },
  {
   "cell_type": "code",
   "execution_count": 27,
   "metadata": {},
   "outputs": [],
   "source": [
    "loss_function   = 'categorical_crossentropy'\n",
    "metric_function = 'accuracy'"
   ]
  },
  {
   "cell_type": "code",
   "execution_count": 28,
   "metadata": {},
   "outputs": [],
   "source": [
    "best_model.compile(optimizer = optimizer, loss = loss_function, metrics = [metric_function])"
   ]
  },
  {
   "cell_type": "code",
   "execution_count": 29,
   "metadata": {},
   "outputs": [
    {
     "name": "stdout",
     "output_type": "stream",
     "text": [
      "Epoch 1/30\n",
      "422/422 [==============================] - 1s 3ms/step - loss: 1.6465 - accuracy: 0.3753 - val_loss: 1.2000 - val_accuracy: 0.5747\n",
      "Epoch 2/30\n",
      "422/422 [==============================] - 1s 2ms/step - loss: 1.1463 - accuracy: 0.5144 - val_loss: 1.0331 - val_accuracy: 0.5905\n",
      "Epoch 3/30\n",
      "422/422 [==============================] - 1s 2ms/step - loss: 1.0066 - accuracy: 0.6089 - val_loss: 0.8570 - val_accuracy: 0.6970\n",
      "Epoch 4/30\n",
      "422/422 [==============================] - 1s 2ms/step - loss: 0.8872 - accuracy: 0.6598 - val_loss: 0.7933 - val_accuracy: 0.7008\n",
      "Epoch 5/30\n",
      "422/422 [==============================] - 1s 2ms/step - loss: 0.8356 - accuracy: 0.6781 - val_loss: 0.7324 - val_accuracy: 0.7423\n",
      "Epoch 6/30\n",
      "422/422 [==============================] - 1s 2ms/step - loss: 0.7970 - accuracy: 0.6953 - val_loss: 0.6893 - val_accuracy: 0.7478\n",
      "Epoch 7/30\n",
      "422/422 [==============================] - 1s 2ms/step - loss: 0.7815 - accuracy: 0.7016 - val_loss: 0.7022 - val_accuracy: 0.7210\n",
      "Epoch 8/30\n",
      "422/422 [==============================] - 1s 2ms/step - loss: 0.7573 - accuracy: 0.7141 - val_loss: 0.6766 - val_accuracy: 0.7530\n",
      "Epoch 9/30\n",
      "422/422 [==============================] - 1s 2ms/step - loss: 0.7479 - accuracy: 0.7173 - val_loss: 0.6541 - val_accuracy: 0.7477\n",
      "Epoch 10/30\n",
      "422/422 [==============================] - 1s 2ms/step - loss: 0.7375 - accuracy: 0.7177 - val_loss: 0.6680 - val_accuracy: 0.7407\n",
      "Epoch 11/30\n",
      "422/422 [==============================] - 1s 2ms/step - loss: 0.7330 - accuracy: 0.7211 - val_loss: 0.6403 - val_accuracy: 0.7567\n",
      "Epoch 12/30\n",
      "422/422 [==============================] - 1s 2ms/step - loss: 0.7200 - accuracy: 0.7249 - val_loss: 0.6383 - val_accuracy: 0.7530\n",
      "Epoch 13/30\n",
      "422/422 [==============================] - 1s 2ms/step - loss: 0.7173 - accuracy: 0.7229 - val_loss: 0.6423 - val_accuracy: 0.7630\n",
      "Epoch 14/30\n",
      "422/422 [==============================] - 1s 2ms/step - loss: 0.7260 - accuracy: 0.7231 - val_loss: 0.6351 - val_accuracy: 0.7545\n",
      "Epoch 15/30\n",
      "422/422 [==============================] - 1s 2ms/step - loss: 0.6903 - accuracy: 0.7354 - val_loss: 0.6032 - val_accuracy: 0.7667\n",
      "Epoch 16/30\n",
      "422/422 [==============================] - 1s 2ms/step - loss: 0.6810 - accuracy: 0.7361 - val_loss: 0.5981 - val_accuracy: 0.7695\n",
      "Epoch 17/30\n",
      "422/422 [==============================] - 1s 2ms/step - loss: 0.6805 - accuracy: 0.7402 - val_loss: 0.6027 - val_accuracy: 0.7693\n",
      "Epoch 18/30\n",
      "422/422 [==============================] - 1s 2ms/step - loss: 0.6722 - accuracy: 0.7443 - val_loss: 0.5939 - val_accuracy: 0.7787\n",
      "Epoch 19/30\n",
      "422/422 [==============================] - 1s 2ms/step - loss: 0.6762 - accuracy: 0.7437 - val_loss: 0.5763 - val_accuracy: 0.7810\n",
      "Epoch 20/30\n",
      "422/422 [==============================] - 1s 2ms/step - loss: 0.6836 - accuracy: 0.7370 - val_loss: 0.5953 - val_accuracy: 0.7752\n",
      "Epoch 21/30\n",
      "422/422 [==============================] - 1s 2ms/step - loss: 0.6849 - accuracy: 0.7387 - val_loss: 0.5967 - val_accuracy: 0.7780\n",
      "Epoch 22/30\n",
      "422/422 [==============================] - 1s 2ms/step - loss: 0.6840 - accuracy: 0.7358 - val_loss: 0.5970 - val_accuracy: 0.7703\n",
      "Epoch 23/30\n",
      "422/422 [==============================] - 1s 2ms/step - loss: 0.6708 - accuracy: 0.7457 - val_loss: 0.6001 - val_accuracy: 0.7688\n",
      "Epoch 24/30\n",
      "422/422 [==============================] - 1s 2ms/step - loss: 0.6643 - accuracy: 0.7488 - val_loss: 0.5751 - val_accuracy: 0.7832\n",
      "Epoch 25/30\n",
      "422/422 [==============================] - 1s 2ms/step - loss: 0.6661 - accuracy: 0.7460 - val_loss: 0.5929 - val_accuracy: 0.7752\n",
      "Epoch 26/30\n",
      "422/422 [==============================] - 1s 2ms/step - loss: 0.6634 - accuracy: 0.7515 - val_loss: 0.5663 - val_accuracy: 0.7833\n",
      "Epoch 27/30\n",
      "422/422 [==============================] - 1s 2ms/step - loss: 0.6531 - accuracy: 0.7488 - val_loss: 0.5865 - val_accuracy: 0.7695\n",
      "Epoch 28/30\n",
      "422/422 [==============================] - 1s 2ms/step - loss: 0.6572 - accuracy: 0.7468 - val_loss: 0.5794 - val_accuracy: 0.7743\n",
      "Epoch 29/30\n",
      "422/422 [==============================] - 1s 2ms/step - loss: 0.6458 - accuracy: 0.7528 - val_loss: 0.5725 - val_accuracy: 0.7832\n",
      "Epoch 30/30\n",
      "422/422 [==============================] - 1s 2ms/step - loss: 0.6522 - accuracy: 0.7515 - val_loss: 0.5688 - val_accuracy: 0.7893\n",
      "Time for training:    29.3970s\n"
     ]
    }
   ],
   "source": [
    "#10 % of the training data will be used to validate the training\n",
    "start_time = time.time()\n",
    "\n",
    "validation_portion = 0.1\n",
    "batch_size = 128\n",
    "num_epochs = 30\n",
    "\n",
    "tensorboard_callback = keras.callbacks.TensorBoard(\n",
    "    log_dir=\"logs/best_model\", histogram_freq=1)\n",
    "\n",
    "history = best_model.fit(x=x_train, y=train_y, epochs=num_epochs, batch_size=batch_size, \\\n",
    "                            validation_split=validation_portion, shuffle=True,\n",
    "                            callbacks=[tensorboard_callback], verbose=1)\n",
    "\n",
    "end_time = time.time()\n",
    "print(\"Time for training: {:10.4f}s\".format(end_time - start_time))"
   ]
  },
  {
   "cell_type": "markdown",
   "metadata": {},
   "source": [
    "<font size=4 color=red> 10. Realiza las gráficas de costo y accuracy para cada conjunto, entrenamiento y validación. Explica si tu modelo presenta overfitting, underfitting o si es un buen modelo. Argumenta lo mejor que puedas tu respuesta. (HINT: Revisa la clase 10 para realizar estas gráficas. Añade un título descriptivo de tu experimento a cada gráfica, como se hace en específico en esta notebook.)"
   ]
  },
  {
   "cell_type": "code",
   "execution_count": 32,
   "metadata": {},
   "outputs": [
    {
     "data": {
      "image/png": "[encoded data removed]",
      "text/plain": [
       "<Figure size 640x480 with 1 Axes>"
      ]
     },
     "metadata": {},
     "output_type": "display_data"
    }
   ],
   "source": [
    "plt.plot(history.history['loss'])\n",
    "plt.plot(history.history['val_loss'])\n",
    "plt.title('Lr = 0.001, FF_Dropout: Inp = 0.1')\n",
    "plt.ylabel('Cost')\n",
    "plt.xlabel('Epoch')\n",
    "plt.legend(['Train', 'Validation'], loc='upper right')\n",
    "plt.show()"
   ]
  },
  {
   "cell_type": "code",
   "execution_count": 33,
   "metadata": {},
   "outputs": [
    {
     "data": {
      "image/png": "[encoded data removed]",
      "text/plain": [
       "<Figure size 640x480 with 1 Axes>"
      ]
     },
     "metadata": {},
     "output_type": "display_data"
    }
   ],
   "source": [
    "plt.plot(history.history['accuracy'])\n",
    "plt.plot(history.history['val_accuracy'])\n",
    "plt.title('Lr = 0.001, FF_Dropout: Inp = 0.1 \\n Acc=0.7893')\n",
    "plt.ylabel('Accuracy')\n",
    "plt.xlabel('Epoch')\n",
    "plt.legend(['Train', 'Validation'], loc='lower right')\n",
    "plt.show()"
   ]
  },
  {
   "cell_type": "code",
   "execution_count": 35,
   "metadata": {},
   "outputs": [
    {
     "name": "stdout",
     "output_type": "stream",
     "text": [
      "313/313 [==============================] - 0s 670us/step - loss: 0.5848 - accuracy: 0.7802\n",
      "Loss = 0.5848091840744019\n",
      "Test Accuracy = 0.7802000045776367\n"
     ]
    }
   ],
   "source": [
    "# Evaluamos el modelo\n",
    "evaluations = best_model.evaluate(x=test_x, y=test_y)\n",
    "print (\"Loss = \" + str(evaluations[0]))\n",
    "print (\"Test Accuracy = \" + str(evaluations[1]))"
   ]
  },
  {
   "cell_type": "markdown",
   "metadata": {},
   "source": [
    "# Puntos Extras!!!"
   ]
  },
  {
   "cell_type": "markdown",
   "metadata": {},
   "source": [
    "<font size=5 color=blue> E1. Modifica los valores que se proponen en la celda 14, donde definimos los hiperparámetros a varias, y realiza la variación de parámetros. Si encuentras un modelo que obtenga más del 90% de accuracy en test, realiza un entrenamiento completo, y haz el análisis sobre el under-overfitting. Anexa en tu tarea para obtener el punto extra el CSV del Tensorboard, así como el modelo. (+1)"
   ]
  },
  {
   "cell_type": "code",
   "execution_count": null,
   "metadata": {},
   "outputs": [],
   "source": []
  }
 ],
 "metadata": {
  "colab": {
   "collapsed_sections": [],
   "name": "hyperparameter_tuning_with_hparams.ipynb",
   "toc_visible": true
  },
  "kernelspec": {
   "display_name": "Python 3",
   "language": "python",
   "name": "python3"
  },
  "language_info": {
   "codemirror_mode": {
    "name": "ipython",
    "version": 3
   },
   "file_extension": ".py",
   "mimetype": "text/x-python",
   "name": "python",
   "nbconvert_exporter": "python",
   "pygments_lexer": "ipython3",
   "version": "3.10.6"
  }
 },
 "nbformat": 4,
 "nbformat_minor": 1
}
