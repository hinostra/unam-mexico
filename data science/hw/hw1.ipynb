{
 "cells": [
  {
   "attachments": {},
   "cell_type": "markdown",
   "id": "5460c487",
   "metadata": {},
   "source": [
    "## Tarea 1: Repaso de los conceptos básicos de Python\n",
    "### Ciencia de datos para físicos: Facultad de ciencias, UNAM\n",
    "#### Profesores: Karen Rubí Jiménez-López, Pedro Arturo Flores-Silva\n",
    "\n",
    "**Instrucciones:** Este notebook contiene una serie de ejercicios que deben ser resueltos. Cada ejercicio se encuentra en una celda, ya sea de código o Markdown. Debes crear una o dos *celdas debajo de cada ejercicio* con tu(s) respectiva(s) respuestas. No modifiques las celdas originales.\n",
    "\n",
    "Recuerda que para ejecutar el código de una celda, presionar `Ctlr + Enter` o bien el boton de `play` en el editor Jupyter notebook.\n",
    "\n",
    "Cada ejercicio tendrá diferente valor, y se indicará en la celda de éste. La calificación final será la suma de los puntos obtenidos en cada ejercicio. Se calificará considerando la calidad de la respuesta, la claridad de la explicación y la correctitud del código. Por ejemplo, si el código no ejecuta la respuesta correcta pero se da una idea textual, se demuestra que hay comprensión del problema y el código hace sentido para el revisor, se otorgará una calificación parcial. Esto es, las respuestas no solo se evaluarán como bien o mal, sino que se considerará el esfuerzo.\n",
    "\n",
    "El codigo que realices debes comentarlo donde creas necesario, no vale no hacer ningún comentario. Recuerda que los comentarios son importantes para que el código sea legible y entendible, éstos se agregan con el símbolo #. Para las funciones y/o clases que crees, agrega la documentación correspondiente (docstring), éste se agrega con `\"\"\" docstring \"\"\"`."
   ]
  },
  {
   "attachments": {},
   "cell_type": "markdown",
   "id": "66df713a",
   "metadata": {},
   "source": [
    "### Ejercicio 1 (1 punto):\n",
    "En una celda Markdown contesta: \n",
    "* ¿Qué es una palabra reservada en python? Enlista 5 ejemplos de nombres reservados en python y describe su función.\n",
    "* Coloca tres ejemplos de nombres de variables que no son válidos en python. Explica por qué no son válidos."
   ]
  },
  {
   "attachments": {},
   "cell_type": "markdown",
   "id": "7ae7b3c6",
   "metadata": {},
   "source": [
    "1. Es una palabra que no puede usarse como nombre de una variable (local o global) o funcion. Incluye el nombre de tipos de variables, operadores logicos, entre otros. Por ejemplo\n",
    "    - **False**: Valor booleano.\n",
    "    - **int**: Funcion que convierte un numero en un numero del tipo entero. (ejemplo: 5.0 -> 5; 4.2 -> 4)\n",
    "    - **import**: Sirve para incluir una libreria o modulo en nuestro codigo.\n",
    "    - **for**: Bucle que nos permite iterar sobre un *iterable* (lista, array, etc).\n",
    "    - **def**: Sirve para definir una funcion o metodo.\n",
    "2. Los siguientes nombres de variables no estan permitidos:\n",
    "    - 4paises: Los nombres de variables empiezan con letras o _, no con numeros.\n",
    "    - ca$h: No pueden incluir caracteres no alfanumericos (#, $, %, ...)\n",
    "    - lambda: No pueden ser palabras reservadas"
   ]
  },
  {
   "attachments": {},
   "cell_type": "markdown",
   "id": "8f4fd89b",
   "metadata": {},
   "source": [
    "### Ejercicio 2 (1 punto):\n",
    "\n",
    "En una celda de código, escribe una función que encuentre las raíces de cualquier polinomio de segundo grado (implementar la chicharronera). En una celda markdown detalla posibles casos en la cual la función podría fallar.\n",
    "Usa dicha función para encontrar las raíces del polinomio $f(x) = 10x^2 - 2x$ e imprimelas en pantalla."
   ]
  },
  {
   "cell_type": "code",
   "execution_count": 31,
   "id": "2f2a51ec",
   "metadata": {},
   "outputs": [],
   "source": [
    "from math import sqrt"
   ]
  },
  {
   "cell_type": "code",
   "execution_count": 32,
   "id": "0d38ad98",
   "metadata": {},
   "outputs": [],
   "source": [
    "def raices_2(a, b, c):\n",
    "    '''\n",
    "    Calcula las raices de cualquier polinomio de segundo grado de la forma a*x^2 + b*x + c.\n",
    "    Input:\n",
    "        a, b, c (float) : coeficientes del polinomio\n",
    "    Output:\n",
    "        Raices del polinomio (list o float)\n",
    "    '''\n",
    "\n",
    "    # Primero evaluamos el discriminante\n",
    "    delta = b**2 - 4*a*c\n",
    "\n",
    "    # Calculamos las raices usando la formula (-b +/- sqrt(b^2 - 4ac))/(2a)\n",
    "    # Separamos tres posibles casos\n",
    "    if delta > 0:\n",
    "        raices = [(-b + sqrt(delta))/(2*a), (-b - sqrt(delta))/(2*a)]\n",
    "    elif delta == 0:\n",
    "        raices = -b/(2*a)\n",
    "    else:\n",
    "        raices = [complex(-b + 1j*sqrt(-delta))/(2*a), complex(-b - 1j*sqrt(-delta))/(2*a)]\n",
    "    \n",
    "    return raices"
   ]
  },
  {
   "attachments": {},
   "cell_type": "markdown",
   "id": "fce78f1b",
   "metadata": {},
   "source": [
    "Si la funcion que definimos calculara las raices simplemente usando \n",
    "~~~\n",
    "raices = [(-b + sqrt(delta))/(2*a), (-b - sqrt(delta))/(2*a)] \n",
    "~~~\n",
    "entonces la funcion presentaria un error cuando $b^2 - 4ac < 0$. Es por ello que se incluye la condicional if/else.\n",
    "Asi tambien si es que se define $a=0$ (con lo cual no seria un polinomio de segundo grado)."
   ]
  },
  {
   "cell_type": "code",
   "execution_count": 33,
   "id": "9d19eb15",
   "metadata": {},
   "outputs": [
    {
     "name": "stdout",
     "output_type": "stream",
     "text": [
      "Las raices del polinomio 10x^2 - 2x son  0.200 y  0.000\n"
     ]
    }
   ],
   "source": [
    "a, b, c = 10., -2., 0.\n",
    "roots = raices_2(a, b, c)\n",
    "print(f'Las raices del polinomio 10x^2 - 2x son {roots[0]: .3f} y {roots[1]: .3f}')"
   ]
  },
  {
   "attachments": {},
   "cell_type": "markdown",
   "id": "7610c62b",
   "metadata": {},
   "source": [
    "### Ejercicio 3 (1 punto):\n",
    "\n",
    "*Caida libre*: El gran Galileo Galilei subió la torre de Pisa para determinar el tiempo que tarda un objeto en caer desde una altura $H$ al suelo. Para ello, colocó un objeto de masa $m=100$ kg en la torre y lo dejó caer. El tiempo que tardó en caer fue $t=0.05616667$ minutos.\n",
    "\n",
    "Considerando que la aceleración de la gravedad es $g=9.8$ $\\frac{m}{s^2}$, escribe un programa que determine la altura de la torre de Pisa. El programa debe imprimir la altura en la pantalla.\n",
    "\n",
    "Recuerda que el movimiento de caída libre simplificado cumple la ecuación: $y(t) = H + vt - \\frac{1}{2}gt^2$."
   ]
  },
  {
   "cell_type": "code",
   "execution_count": 34,
   "id": "14fa3d58",
   "metadata": {},
   "outputs": [],
   "source": [
    "def altura(tiempo, v=0., g=9.8):\n",
    "    '''\n",
    "    Calcula la altura H de la torre de Pisa usando la formula y(t) = H + vt - 0.5*g*t^2 = 0.\n",
    "    Input:\n",
    "        tiempo (float)  : tiempo que demora el objeto en caer la altura H al suelo en segundos.\n",
    "        v (float)       : velocidad con la que se lanza el movil [default = 0.0].\n",
    "        g (float)       : aceleracion de la gravedad [default = 9.8].\n",
    "    Output:\n",
    "        Altura H de la torre de Pisa (float) en metros.\n",
    "    '''\n",
    "\n",
    "    # Calculamos la altura H segun y(t) = H + vt - 0.5*g*t^2 = 0 (cuando el movil llega al suelo)\n",
    "    H = 0.5*g*tiempo**2 - v*tiempo\n",
    "    print(f'La altura de la torre de Pisa es {H: .3f} m.')\n",
    "\n",
    "    return H"
   ]
  },
  {
   "cell_type": "code",
   "execution_count": 35,
   "id": "42bcc74c",
   "metadata": {},
   "outputs": [
    {
     "name": "stdout",
     "output_type": "stream",
     "text": [
      "La altura de la torre de Pisa es  55.649 m.\n"
     ]
    }
   ],
   "source": [
    "tiempo = 0.05616667*60      # tiempo de caida en segundos: (tiempo en minutos)*60\n",
    "altura_Pisa = altura(tiempo)"
   ]
  },
  {
   "attachments": {},
   "cell_type": "markdown",
   "id": "bf2d28e7",
   "metadata": {},
   "source": [
    "### Ejercicio 4 (1 punto):\n",
    "Crea una lista de números enteros del 0 al 99 : `lista = [0,1, 2, 3, 4, ... , 95, 96, 97, 98, 99]` (6 puntos menos si creas la lista manualmente).\n",
    " \n",
    "Escribe un programa que imprima en la pantalla una la lista que cumpla con las siguientes condiciones:\n",
    "* Los ultimos 10 elementos: debe imprimir lo siguiente `[90, 91, 92, 93, 94, 95, 96, 97, 98, 99]`.\n",
    "* Los primeros 11 elementos: debe imprimir lo siguiente `[0, 1, 2, 3, 4, 5, 6, 7, 8, 9, 10]`.\n",
    "* La serie de elementos de la lista que están entre 60 y 75: debe imprimir lo siguiente `[60, 61, 62, 63, 64, 65, 66, 67, 68, 69, 70, 71, 72, 73, 74, 75]`.\n",
    "* El número 50: debe imprimir lo siguiente `50`.\n",
    "\n",
    "Debes aplicar el concepto de *slicing* para resolver este ejercicio (notación de puntos `[:]`).\n",
    "\n",
    "Puntos menos si se crean listas nuevas para cada caso y/o se seleccionan manualmente los valores."
   ]
  },
  {
   "cell_type": "code",
   "execution_count": 36,
   "id": "c200a9e0",
   "metadata": {},
   "outputs": [],
   "source": [
    "lista = [i for i in range(100)]"
   ]
  },
  {
   "cell_type": "code",
   "execution_count": 37,
   "id": "628d8d87",
   "metadata": {},
   "outputs": [],
   "source": [
    "def print_list(lista):\n",
    "    '''\n",
    "    Imprime los ultimos 10 elementos, los primeros 11 elementos, los elementos entre 60 y 75 y el elemento 50 de una lista.\n",
    "    Input:\n",
    "        lista (list) : lista cuyos elementos se van a imprimir.\n",
    "    '''\n",
    "\n",
    "    # Empleamos el slicing [:] de las listas de python para seleccionar los elementos de interes\n",
    "    print('Ultimos 10 elementos: ', lista[-10:])\n",
    "    print('Primeros 11 elementos: ', lista[:11])\n",
    "    print('Elementos entre 60 y 75: ', lista[60:76])\n",
    "    print('Elemento 50: ', lista[50])"
   ]
  },
  {
   "cell_type": "code",
   "execution_count": 38,
   "id": "3a755720",
   "metadata": {},
   "outputs": [
    {
     "name": "stdout",
     "output_type": "stream",
     "text": [
      "Ultimos 10 elementos:  [90, 91, 92, 93, 94, 95, 96, 97, 98, 99]\n",
      "Primeros 11 elementos:  [0, 1, 2, 3, 4, 5, 6, 7, 8, 9, 10]\n",
      "Elementos entre 60 y 75:  [60, 61, 62, 63, 64, 65, 66, 67, 68, 69, 70, 71, 72, 73, 74, 75]\n",
      "Elemento 50:  50\n"
     ]
    }
   ],
   "source": [
    "print_list(lista)"
   ]
  },
  {
   "attachments": {},
   "cell_type": "markdown",
   "id": "ac5b94d8",
   "metadata": {},
   "source": [
    "### Ejercicio 5 (1 punto):\n",
    "Crea una lista de números enteros del 0 al 1000. A partir de dicha lista:\n",
    "* Guarda en una variable una lista con los números pares usando ciclos y condicionales. Imprime los últimos 10 elementos de la lista final.\n",
    "* Guarda en una variable una lista con los números impares usando listas comprensivas (comprehension list). Imprime los primeros 10 elementos de la lista final."
   ]
  },
  {
   "cell_type": "code",
   "execution_count": 39,
   "id": "3dc9ec26",
   "metadata": {},
   "outputs": [],
   "source": [
    "# Creamos una lista comprensiva\n",
    "lista = [i for i in range(1001)]"
   ]
  },
  {
   "cell_type": "code",
   "execution_count": 40,
   "id": "a1352126",
   "metadata": {},
   "outputs": [
    {
     "name": "stdout",
     "output_type": "stream",
     "text": [
      "Ultimos 10 elementos de la lista con numeros pares:  [982, 984, 986, 988, 990, 992, 994, 996, 998, 1000]\n"
     ]
    }
   ],
   "source": [
    "pares_lista = []\n",
    "for x in lista:\n",
    "    # Seleccionamos los numeros pares (cuyo modulo en 2 es igual a 0)\n",
    "    if x%2==0:\n",
    "        pares_lista.append(x)\n",
    "\n",
    "print('Ultimos 10 elementos de la lista con numeros pares: ', pares_lista[-10:])"
   ]
  },
  {
   "cell_type": "code",
   "execution_count": 41,
   "id": "83f29892",
   "metadata": {},
   "outputs": [
    {
     "name": "stdout",
     "output_type": "stream",
     "text": [
      "Primeros 10 elementos de la lista con numeros impares:  [1, 3, 5, 7, 9, 11, 13, 15, 17, 19]\n"
     ]
    }
   ],
   "source": [
    "# Seleccionamos los numeros pares (cuyo modulo en 2 es diferente a 0)\n",
    "impares_lista = [x for x in lista if x%2!=0]\n",
    "\n",
    "print('Primeros 10 elementos de la lista con numeros impares: ', impares_lista[:10])"
   ]
  },
  {
   "attachments": {},
   "cell_type": "markdown",
   "id": "00462693",
   "metadata": {},
   "source": [
    "### Ejercicio 6 (2 puntos): Aproximación de $\\pi$\n",
    "Una de las formas más sencillas de aproximar $\\pi$ es mediante la siguiente serie infinita de Leibniz:\n",
    "$$\\frac{\\pi}{4} = \\sum_{n=0}^{\\infty}\\frac{(-1)^{n}}{(2n+1)} = \\frac{1}{1} - \\frac{1}{3} + \\frac{1}{5}-\\frac{1}{7}+\\frac{1}{9}-...$$\n",
    "\n",
    "crea una función para aproximar $\\pi$ utilizando la serie de Leibniz. Usa n = 100000 e imprime el valor de tu aproximación tanto el valor de $\\frac{\\pi}{4}$ como $\\pi$.\n",
    "\n",
    "El valor de $\\pi$ se obtiene al despejar:\n",
    "$$\\pi = 4 * \\left(\\sum_{n=0}^{\\infty}\\frac{(-1)^{n}}{(2n+1)} \\right)$$\n",
    "\n",
    "La siguiente celda de codigo ofrece el valor de $\\frac{\\pi}{4}$"
   ]
  },
  {
   "cell_type": "code",
   "execution_count": 42,
   "id": "a4a31d07",
   "metadata": {},
   "outputs": [
    {
     "name": "stdout",
     "output_type": "stream",
     "text": [
      "El valor de pi/4 es aproximadamente 0.7853981633974483\n"
     ]
    }
   ],
   "source": [
    "import numpy as np\n",
    "#El valor de pi/4\n",
    "print(\"El valor de pi/4 es aproximadamente {}\".format(np.pi/4))"
   ]
  },
  {
   "cell_type": "code",
   "execution_count": 43,
   "id": "1f00b6dd",
   "metadata": {},
   "outputs": [],
   "source": [
    "def aproximar_pi(N):\n",
    "    '''\n",
    "    Calcula la aproximacion de pi segun la serie de Leibniz. \n",
    "    Input:\n",
    "        N (int) : Numero de elementos de la serie a emplear para la aproximacion.\n",
    "    Output:\n",
    "        Aproximacion de pi/4 (float), aproximacion de pi (float)\n",
    "    '''\n",
    "\n",
    "    pi_4 = 0\n",
    "    for n in range(N):\n",
    "        pi_4 += (-1)**n/(2*n+1)\n",
    "    \n",
    "    print(f'Aproximacion de pi/4: {pi_4}.')\n",
    "    print(f'Aproximacion de pi: {4*pi_4}.')\n",
    "\n",
    "    return pi_4, 4*pi_4"
   ]
  },
  {
   "cell_type": "code",
   "execution_count": 44,
   "id": "01eab778",
   "metadata": {},
   "outputs": [
    {
     "name": "stdout",
     "output_type": "stream",
     "text": [
      "Aproximacion de pi/4: 0.7853956633974299.\n",
      "Aproximacion de pi: 3.1415826535897198.\n"
     ]
    }
   ],
   "source": [
    "N = 100000\n",
    "_, pi = aproximar_pi(N)"
   ]
  },
  {
   "attachments": {},
   "cell_type": "markdown",
   "id": "d0c28e6e",
   "metadata": {},
   "source": [
    "### Ejercicio 7 (1 puntos): Identificador de vocales\n",
    "\n",
    "Escribe una función que reciba una cadena, por ejemplo 'el pErro de la tiA chOnita' y regrese la cantidad de vocales que contiene. La función debe contener varios casos de prueba, if, elif y else. Con la cadena de ejemplo, imprime en pantalla el resultado de la función (10).\n",
    "\n",
    "Para conocer si un caracter es una vocal, primero debes descomponer la cadena en caracteres individuales. Para ello observa el siguiente código:"
   ]
  },
  {
   "cell_type": "code",
   "execution_count": 45,
   "id": "55a65e0f",
   "metadata": {},
   "outputs": [
    {
     "name": "stdout",
     "output_type": "stream",
     "text": [
      "['e', 'l', ' ', 'p', 'E', 'r', 'r', 'o', ' ', 'd', 'e', ' ', 'l', 'a', ' ', 't', 'i', 'A', ' ', 'c', 'h', 'O', 'n', 'i', 't', 'a']\n"
     ]
    }
   ],
   "source": [
    "# Divide una cadena en caracteres individuales\n",
    "cadena_prueba = 'el pErro de la tiA chOnita'\n",
    "caracteres_individuales = list(cadena_prueba)\n",
    "print(caracteres_individuales)"
   ]
  },
  {
   "cell_type": "code",
   "execution_count": 46,
   "id": "1d82baa9",
   "metadata": {},
   "outputs": [],
   "source": [
    "def identificar_vocales(cadena):\n",
    "    '''\n",
    "    Cuenta la cantidad de vocales en una cadena.\n",
    "    Input:\n",
    "        cadena (string) : cadena a la cual se le contaran las vocales.\n",
    "    Output:\n",
    "        Numero de vocales (int).\n",
    "    '''\n",
    "\n",
    "    # Definimos una lista con vocales (mayusculas y minusculas)\n",
    "    vocales = ['a', 'A', 'e', 'E', 'i', 'I', 'o', 'O', 'u', 'U']\n",
    "    # Separamos el string en sus caracteres individuales\n",
    "    caracteres_individuales = list(cadena)\n",
    "    num_vocales = 0\n",
    "    for caracter in caracteres_individuales:\n",
    "        # Si el caracter pertenece al conjunto de vocales antes definido, se cuenta 1\n",
    "        if caracter in vocales:\n",
    "            num_vocales += 1\n",
    "\n",
    "    print(f'La cadena tiene {num_vocales} vocales.')\n",
    "    return num_vocales"
   ]
  },
  {
   "cell_type": "code",
   "execution_count": 47,
   "id": "7b9c5095",
   "metadata": {},
   "outputs": [
    {
     "name": "stdout",
     "output_type": "stream",
     "text": [
      "La cadena tiene 10 vocales.\n"
     ]
    }
   ],
   "source": [
    "cadena_prueba = 'el pErro de la tiA chOnita'\n",
    "num_prueba = identificar_vocales(cadena_prueba)"
   ]
  },
  {
   "attachments": {},
   "cell_type": "markdown",
   "id": "fb89fa24",
   "metadata": {},
   "source": [
    "### Ejercicio 8 (2 puntos):\n",
    "\n",
    "Escribe una clase \"calculadora\" que regrese el resultado de las operaciones de suma, resta, multiplicacion, division, modulo y potencia. La clase debe contener un método para cada operación.\n",
    "\n",
    "Los métodos que pudiesen presentar errores como division entre cero, deben ser manejados de tal manera que el programa no imprima ningun error (vimos una clausula para hacer esto).\n",
    "\n",
    "Adicional a esto, los métodos modulo y potencia deben ser generales, es decir, deben funcionar para cualquier número entero positivo (es un parámetro extra del método). Por ejemplo, la potencia de 2 elevado a 3 es 8, la potencia de 5 elevado a 3 es 125, etc.\n",
    "\n",
    "Crea una instancia de la clase calculadora y prueba cada uno de los métodos, con valores de tu elección. Para los métodos que pudiesen presentar errores da dos ejemplos, uno totalmente funcional (3/5 por ejemplo) y otro que sea conflictivo pero que no regresa ningún error (4/0 por ejemplo)."
   ]
  },
  {
   "cell_type": "code",
   "execution_count": 48,
   "id": "5a39ca3a",
   "metadata": {},
   "outputs": [],
   "source": [
    "class calculadora:\n",
    "    '''\n",
    "    Calculadora con operaciones de suma, resta, multiplicacion, division, modulo y potencia.\n",
    "    '''\n",
    "    def __init__(self):\n",
    "        pass\n",
    "\n",
    "    # suma\n",
    "    def suma(self, sumando_1, sumando_2):\n",
    "        sum = sumando_1 + sumando_2\n",
    "        print(f'{sumando_1} + {sumando_2} = {sum}')\n",
    "        return sum\n",
    "    \n",
    "    # resta\n",
    "    def resta(self, minuendo, sustraendo):\n",
    "        rest = minuendo - sustraendo\n",
    "        print(f'{minuendo} - {sustraendo} = {rest}')\n",
    "        return rest\n",
    "    \n",
    "    # multiplicacion\n",
    "    def multiplicacion(self, factor_1, factor_2):\n",
    "        multi = factor_1*factor_2\n",
    "        print(f'{factor_1} * {factor_2} = {multi}')\n",
    "        return multi\n",
    "    \n",
    "    # division: no retorna valor cuando se tiene division entre cero\n",
    "    def division(self, numerador, denominador):\n",
    "        try:\n",
    "            div = numerador/denominador\n",
    "            print(f'{numerador} / {denominador} = {div}')\n",
    "            return div\n",
    "        except:\n",
    "            pass\n",
    "\n",
    "    # Modulo y potencia funcionan exclusivamente para numeros enteros y positivos\n",
    "    def modulo(self, numerador, denominador):\n",
    "        if isinstance(numerador, int) and isinstance(denominador, int) and numerador > 0 and denominador > 0:\n",
    "            mod = numerador%denominador\n",
    "            print(f'{numerador} % {denominador} = {mod}')\n",
    "            return mod\n",
    "        else:\n",
    "            pass\n",
    "\n",
    "    def potencia(self, base, exponente):\n",
    "        if isinstance(base, int) and isinstance(exponente, int) and base > 0 and exponente >= 0:\n",
    "            pot = base**exponente\n",
    "            print(f'{base} ^ {exponente} = {pot}')\n",
    "            return pot\n",
    "        else:\n",
    "            pass"
   ]
  },
  {
   "cell_type": "code",
   "execution_count": 49,
   "id": "96cc27de",
   "metadata": {},
   "outputs": [
    {
     "name": "stdout",
     "output_type": "stream",
     "text": [
      "Suma\n",
      "5.4 + 2.8 = 8.2\n",
      "Resta\n",
      "8.0 - 9.6 = -1.5999999999999996\n",
      "Multiplicacion\n",
      "4.0 * 5.0 = 20.0\n",
      "Division\n",
      "3 / 5 = 0.6\n",
      "Modulo\n",
      "5 % 2 = 1\n",
      "Potencia\n",
      "5 ^ 2 = 25\n"
     ]
    }
   ],
   "source": [
    "calc = calculadora()\n",
    "\n",
    "\n",
    "# Suma: sin conflictos\n",
    "a, b = 5.4, 2.8\n",
    "print('Suma')\n",
    "sum = calc.suma(a, b)\n",
    "\n",
    "# Resta: sin conflictos\n",
    "a, b = 8.0, 9.6\n",
    "print('Resta')\n",
    "rest = calc.resta(a, b)\n",
    "\n",
    "# Multiplicacion: sin conflictos\n",
    "a, b = 4.0, 5.0\n",
    "print('Multiplicacion')\n",
    "multi = calc.multiplicacion(a, b)\n",
    "\n",
    "# Division: funcional\n",
    "print('Division')\n",
    "a, b = 3, 5\n",
    "div = calc.division(a, b)\n",
    "# Division: conflictiva a/0\n",
    "a, b = 3, 0\n",
    "div = calc.division(a, b)\n",
    "\n",
    "# Modulo: funcional\n",
    "print('Modulo')\n",
    "a, b = 5, 2\n",
    "mod = calc.modulo(a, b)\n",
    "# Modulo: conflictiva float(a)%0\n",
    "a, b = 3., 0\n",
    "mod = calc.modulo(a, b)\n",
    "\n",
    "\n",
    "# Potencia: funcional\n",
    "print('Potencia')\n",
    "a, b = 5, 2\n",
    "pot = calc.potencia(a, b)\n",
    "# Potencia: conflictiva a^(numero negativo)\n",
    "a, b = 3., -1\n",
    "pot = calc.potencia(a, b)"
   ]
  },
  {
   "attachments": {},
   "cell_type": "markdown",
   "id": "c6e4da53",
   "metadata": {},
   "source": [
    "### Ejercicio de puntos extras opcional (1 punto):\n",
    "\n",
    "Supóngamos que tenemos una lista de números enteros y queremos encontrar el número más grande. Por ejemplo, si la lista es `[1, 2, 3, 4, 5]` el número más grande es 5. Crea una función que encuentre el número más grande en una lista de números. La función debe regresar el número más grande y el índice en el que se encuentra. Prueba la función con una lista de números de tu elección."
   ]
  },
  {
   "cell_type": "code",
   "execution_count": 50,
   "id": "e9c0fd5e",
   "metadata": {},
   "outputs": [],
   "source": [
    "def maximo_en_list(lista):\n",
    "    '''\n",
    "    Funcion que retorna el numero mas grande de una lista y su indice.\n",
    "    Input:\n",
    "        lista (list)    : lista de numeros enteros donde se buscara el numero maximo.\n",
    "    Output:\n",
    "        valor maximo, indice del valor maximo en la lista\n",
    "    '''\n",
    "    \n",
    "    # Inicializamos el maximo valor de la lista como el primer\n",
    "    max_index = 0\n",
    "    max_val = lista[0]\n",
    "    for i in range(1, len(lista)):\n",
    "        # Si encontramos otro valor que sea mayor al maximo antes establecido, asignamos un nuevo valor maximo\n",
    "        if max_val < lista[i]:\n",
    "            max_val = lista[i]\n",
    "            max_index = i\n",
    "    return max_val, max_index"
   ]
  },
  {
   "cell_type": "code",
   "execution_count": 51,
   "id": "5671b7ee",
   "metadata": {},
   "outputs": [
    {
     "name": "stdout",
     "output_type": "stream",
     "text": [
      "El maximo valor en [1, 2, 3, 4, 5] es 5 con indice 4.\n"
     ]
    }
   ],
   "source": [
    "lista = [1, 2, 3, 4, 5]\n",
    "max_val, max_index = maximo_en_list(lista)\n",
    "print(f'El maximo valor en {lista} es {max_val} con indice {max_index}.')"
   ]
  },
  {
   "attachments": {},
   "cell_type": "markdown",
   "id": "525883b3",
   "metadata": {},
   "source": [
    "### Ejercicio de puntos extras opcional (3 puntos):\n",
    "\n",
    "Supóngamos que tenemos un dado convencional de 6 caras. Crea una función que simule el lanzamiento de un dado. La función debe regresar un número aleatorio entre 1 y 6.\n",
    "\n",
    "Sabemos que la probabilidad de que salga un número es de $\\frac{1}{6}$, es decir, la probabilidad de que salga un 1 es de $\\frac{1}{6}$, la probabilidad de que salga un 2 es de $\\frac{1}{6}$, etc.\n",
    "\n",
    "* Prueba la función con 6 lanzamientos, en una celda markdown explica porqué el resultado es dificilmente [1, 2, 3, 4, 5, 6].\n",
    "\n",
    "* Prueba la función con 1000 lanzamientos, crea una grafica de barras de los resultados (investiga como puedes graficar los resultados en una grafica de barras) y explica a que distribucion se parece y porqué es así.\n",
    "\n",
    "Hint: Para crear los números aleatorios, puedes usar la función `random.randint()`. O bien, usar el modulo numpy para crearlos. Para graficar los resultados, puedes usar la libreria matplotlib, seaborn, plotly o cualquiera que se te haga más fácil."
   ]
  },
  {
   "cell_type": "code",
   "execution_count": 52,
   "id": "a8c75ced",
   "metadata": {},
   "outputs": [],
   "source": [
    "import random\n",
    "random.seed(1)"
   ]
  },
  {
   "cell_type": "code",
   "execution_count": 53,
   "id": "ef68d3f0",
   "metadata": {},
   "outputs": [],
   "source": [
    "def dado(n_samples):\n",
    "    '''\n",
    "    Simula el lanzamiento de un dado n_samples veces.\n",
    "    Input:\n",
    "        n_samples (int)  : numero de veces que se lanzara el dado\n",
    "    Output:\n",
    "        resultado (list) : lista con los resultados de cada lanzamiento\n",
    "    '''\n",
    "\n",
    "    resultado = []\n",
    "    for i in range(n_samples):\n",
    "        # Anadimos un numero entero aleatorio entre 1 y 6\n",
    "        resultado.append(random.randint(1, 6))\n",
    "    return resultado"
   ]
  },
  {
   "cell_type": "code",
   "execution_count": 54,
   "id": "f895e99a",
   "metadata": {},
   "outputs": [
    {
     "name": "stdout",
     "output_type": "stream",
     "text": [
      "Resultado de 6 lanzamientos: [2, 5, 1, 3, 1, 4]\n"
     ]
    }
   ],
   "source": [
    "resultado_6 = dado(6)\n",
    "print(f'Resultado de 6 lanzamientos: {resultado_6}')"
   ]
  },
  {
   "attachments": {},
   "cell_type": "markdown",
   "id": "d02fc74a",
   "metadata": {},
   "source": [
    "Se tiene un total de 6x6x6x6x6x6 = 46656 posibles resultados para 6 lanzamientos de un dado (por ejemplo [2, 5, 1, 3, 1, 4], [1, 1, 1, 1, 1, 1]). **Uno** de estos resultados es [1, 2, 3, 4, 5, 6], pero el hecho que se obtenga esta lista tiene una probabilidad de 1/46656 = 0.00002 = 0.002% (muy pequena). Por ende es muy poco probable que entre todos los resultados posibles se obtenga [1, 2, 3, 4, 5, 6]."
   ]
  },
  {
   "cell_type": "code",
   "execution_count": 55,
   "id": "f740d2f1",
   "metadata": {},
   "outputs": [
    {
     "data": {
      "image/png": "[encoded data removed]",
      "text/plain": [
       "<Figure size 640x480 with 1 Axes>"
      ]
     },
     "metadata": {},
     "output_type": "display_data"
    }
   ],
   "source": [
    "resultado_1000 = dado(1000)\n",
    "\n",
    "caras = [x for x in range(1,7)] # [1, 2, 3, 4, 5, 6]\n",
    "counts = []\n",
    "for c in caras:\n",
    "    # Contamos el numero de veces que aparece una cara (ejemplo: 5) en el resultado final\n",
    "    counts.append(resultado_1000.count(c))\n",
    "\n",
    "import matplotlib.pyplot as plt\n",
    "\n",
    "plt.bar(caras, counts)\n",
    "plt.xlabel('Caras')\n",
    "plt.ylabel('Numero de veces que se obtiene')\n",
    "plt.show()"
   ]
  },
  {
   "attachments": {},
   "cell_type": "markdown",
   "id": "6cfb65b8",
   "metadata": {},
   "source": [
    "La distribucion obtenida se asemeja a una distribucion uniforme (en la que cada barra tiene la misma altura). Esto se debe a que cada cara tiene la misma probabilidad de obtenerse al lanzar un dado."
   ]
  },
  {
   "cell_type": "markdown",
   "id": "af86e509",
   "metadata": {},
   "source": []
  }
 ],
 "metadata": {
  "kernelspec": {
   "display_name": ".data-science",
   "language": "python",
   "name": "python3"
  },
  "language_info": {
   "codemirror_mode": {
    "name": "ipython",
    "version": 3
   },
   "file_extension": ".py",
   "mimetype": "text/x-python",
   "name": "python",
   "nbconvert_exporter": "python",
   "pygments_lexer": "ipython3",
   "version": "3.10.6 (main, Nov 14 2022, 16:10:14) [GCC 11.3.0]"
  },
  "vscode": {
   "interpreter": {
    "hash": "9e76aa2792664e0074022c3a0e5e95e3bd3e735e54b234d4bc2083b594e60e92"
   }
  }
 },
 "nbformat": 4,
 "nbformat_minor": 5
}
